{
 "cells": [
  {
   "cell_type": "code",
   "execution_count": 3,
   "metadata": {},
   "outputs": [
    {
     "name": "stdout",
     "output_type": "stream",
     "text": [
      "C:\\Users\\Mo Ragheb\\Downloads\\-Python-3-Bootcamp-master\\Labs\\Scrapper\n"
     ]
    }
   ],
   "source": [
    "%cd C:\\Users\\Mo Ragheb\\Downloads\\-Python-3-Bootcamp-master\\Labs\\Scrapper\n",
    "\n",
    "from pinnacle.apiclient import  APIClient\n",
    "from pinnacle.exceptions import  PinnacleError\n",
    "from pinnacle.resources.baseresource import BaseResource\n",
    "from pinnacle.resources.baseresource import BaseResource\n",
    "from dateutil import parser\n",
    "from datetime import  datetime,timedelta\n",
    "import time\n",
    "from ipywidgets import interact,interactive,fixed,widgets\n",
    "from IPython.display import display,clear_output\n",
    "from simplejson.decoder import JSONDecodeError\n",
    "import logging\n",
    "from pinnacle.resources.referencedataresources import (\n",
    "    SportsDetails,\n",
    "    CurrencyDetails,\n",
    "    PeriodDetails,\n",
    "    LeagueDetails,\n",
    ")\n",
    "\n",
    "from pinnacle.resources.accountresources import AccountDetails\n",
    "\n",
    "from pinnacle.resources.marketdataresources import (\n",
    "    FixtureDetails,\n",
    "    SettledFixtureDetails,\n",
    "    SpecialFixtureDetails,\n",
    "    SettledSpecialFixtureDetails,\n",
    "    OddsDetails,\n",
    "    SpecialOddsDetails,\n",
    "    LineDetails,\n",
    "    SpecialLineDetails,\n",
    "    InRunningDetails,\n",
    ")\n",
    "\n",
    "from pinnacle.resources.bettingresources import (\n",
    "    BetDetails,\n",
    "    PlaceBetDetails,\n",
    "    PlaceSpecialBetDetails,\n",
    ")\n",
    "\n",
    "import sys\n",
    "from openpyxl import load_workbook\n",
    "from openpyxl import Workbook\n",
    "from openpyxl.styles import PatternFill\n",
    "import pinnacle.enums as enums\n",
    "from IPython.core.debugger import set_trace\n",
    "from collections import  OrderedDict\n",
    "import threading\n",
    "from queue import Queue\n",
    "from Classes.Comp import Comp\n",
    "from HelperMethods import Methods\n",
    "import os.path\n",
    "import re\n",
    "import numpy as np\n",
    "from fuzzywuzzy import fuzz\n"
   ]
  },
  {
   "cell_type": "code",
   "execution_count": null,
   "metadata": {},
   "outputs": [],
   "source": [
    "api = APIClient('MR1009178', 'Keymuse_13')\n",
    "\n",
    "pinnyconfigfile=r\"C:\\Users\\Mo Ragheb\\Downloads\\Data minings\\Stats\\PinnacleLeagues.xlsx\"\n",
    "pinnyleagues= OrderedDict()\n",
    "pinnysports=OrderedDict()\n",
    "Logfilelocation=\"C:\\\\Users\\Mo Ragheb\\\\Downloads\\Data minings\\\\Scrapper logs\\\\pinny1\"+str (time.strftime(\"%d-%m-%Y\"+\"test.txt\"))\n",
    "#Logfilelocation=\"test.txt\"\n",
    "for handler in logging.root.handlers[:]:\n",
    "    logging.root.removeHandler(handler)\n",
    "logging.basicConfig(level = logging.DEBUG, format = '%(asctime)s  %(levelname)-10s %(processName)s %(funcName)s   %(message)s', filename = Logfilelocation,filemode=\"w\" )\n",
    "PinnyUserNAme=\"MR1009178\" \n",
    "PinnyPass=\"Keymuse_13\"\n",
    "PinnyEvents=[]\n",
    "tempevent=None\n",
    "Eventsqueue=Queue()\n",
    "Comp.buildallleagues()\n",
    "DataMiningspath=\"C:\\\\Users\\\\Mo Ragheb\\\\Downloads\\Data minings\\\\\"\n",
    "\n",
    "if \"availableBalance\" in api.account.get_account().keys():\n",
    "    logging.info(\"Connection to pinnacle is a sucess\")\n",
    "else:\n",
    "        logging.info(\"Pinnace Invlaid Credntials\")\n"
   ]
  },
  {
   "cell_type": "code",
   "execution_count": null,
   "metadata": {
    "collapsed": true
   },
   "outputs": [],
   "source": [
    "class pinnyEvent:\n",
    "    global pinnyleagues\n",
    "    def __init__(self,rotnumber=0,sportid=0,leagueid=0,hometeam=\"\",awayteam=\"\",startdate=datetime.now().date(),eventid=0,homeodds=0,awayodds=0,drawodds=0,totalsover=0,totalsunder=0,httotlasover=0,httunder=0,attover=0,attunder=0,homespread=0,awayspread=0,spread=0,totals=0,hteamtotals=0,ateamtotls=0,homepitcher=\"\",awaypitcher=\"\"):\n",
    "        self.leagueid=leagueid\n",
    "        self.hometeam=hometeam\n",
    "        self.awayteam=awayteam\n",
    "        self.startdate=startdate\n",
    "        self.rotnumber=rotnumber\n",
    "        self.eventid=eventid\n",
    "        self.spread=spread\n",
    "        self.totals=totals\n",
    "        self.homeodds=homeodds\n",
    "        self.awayodds=awayodds\n",
    "        self.totalsover=totalsover\n",
    "        self.totalsunder=totalsunder\n",
    "        self.homespread=homespread\n",
    "        self.awayspread=awayspread\n",
    "        self.httotlasover=httotlasover\n",
    "        self.httunder=httunder\n",
    "        self.attover=attover\n",
    "        self.attunder=attunder\n",
    "        self.hteamtotals=hteamtotals\n",
    "        self.ateamtotls=ateamtotls\n",
    "        self.homepitcher=homepitcher\n",
    "        self.awaypitcher=awaypitcher\n",
    "        self.sportid=sportid\n",
    "    def __str__(self):\n",
    "        return(\"League : \" + str(pinnyleagues[self.leagueid][0])+\" Event ID:\"+str(self.eventid)+ \" Rotation number :\" +self.rotnumber+\"  Home team : \"+self.hometeam+\" Away team : \"+self.awayteam +\" startdate:\" +str(self.startdate) )\n",
    "    "
   ]
  },
  {
   "cell_type": "code",
   "execution_count": 6,
   "metadata": {
    "collapsed": true
   },
   "outputs": [],
   "source": [
    "class threadsafe_iter:\n",
    "    \"\"\"Takes an iterator/generator and makes it thread-safe by\n",
    "    serializing call to the `next` method of given iterator/generator.\n",
    "    \"\"\"\n",
    "    def __init__(self, it):\n",
    "        self.it = it\n",
    "        self.lock = threading.Lock()\n",
    "\n",
    "    def __iter__(self):\n",
    "        return self\n",
    "\n",
    "    def __next__(self):\n",
    "        with self.lock:\n",
    "                return self.it.__next__()\n",
    "    def __str__():\n",
    "        return str(self)\n",
    "\n"
   ]
  },
  {
   "cell_type": "code",
   "execution_count": 7,
   "metadata": {},
   "outputs": [
    {
     "data": {
      "text/plain": [
       "{'Latency': 0.105719,\n",
       " 'TIMESTAMP': '2019-08-14 10:50:55.029469',\n",
       " 'code': 'NO_API_ACCESS',\n",
       " 'message': 'Account not permitted to access the API'}"
      ]
     },
     "execution_count": 7,
     "metadata": {},
     "output_type": "execute_result"
    }
   ],
   "source": [
    "api.account.get_account()"
   ]
  },
  {
   "cell_type": "code",
   "execution_count": 150,
   "metadata": {
    "collapsed": true
   },
   "outputs": [],
   "source": [
    "def threadsafe_generator(f):\n",
    "    \"\"\"A decorator that takes a generator function and makes it thread-safe.\n",
    "    \"\"\"\n",
    "    def g(*a, **kw):\n",
    "        return threadsafe_iter(f(*a, **kw))\n",
    "    return g"
   ]
  },
  {
   "cell_type": "code",
   "execution_count": 151,
   "metadata": {
    "collapsed": true
   },
   "outputs": [],
   "source": [
    "\n",
    "def loop(func, n):\n",
    "    \"\"\"Runs the given function n times in a loop.\n",
    "    \"\"\"\n",
    "    for i in range(n):\n",
    "         func()"
   ]
  },
  {
   "cell_type": "code",
   "execution_count": 152,
   "metadata": {
    "collapsed": true
   },
   "outputs": [],
   "source": [
    "def runthreads(f, repeats=1000, nthreads=10):\n",
    "    \"\"\"Starts multiple threads to execute the given function multiple\n",
    "    times in each thread.\n",
    "    \"\"\"\n",
    "    # create threads\n",
    "    threads = [threading.Thread(target=loop, args=(f, repeats))\n",
    "               for i in range(nthreads)]\n",
    "\n",
    "    # start threads\n",
    "    for t in threads:\n",
    "        t.start()\n",
    "\n",
    "    # wait for threads to finish\n",
    "    for t in threads:\n",
    "        t.join()"
   ]
  },
  {
   "cell_type": "code",
   "execution_count": 153,
   "metadata": {
    "collapsed": true
   },
   "outputs": [],
   "source": [
    "def buildpinnysports():\n",
    "    for sport in api.reference_data.get_sports():\n",
    "        pinnysports[sport[\"id\"]]=sport[\"name\"]"
   ]
  },
  {
   "cell_type": "code",
   "execution_count": null,
   "metadata": {
    "collapsed": true
   },
   "outputs": [],
   "source": [
    "def buildpinnyleaguesdict():\n",
    "    wb=load_workbook(filename=pinnyconfigfile)\n",
    "    sheet   =wb.active\n",
    "    pinnyleagues.clear()\n",
    "    for row in sheet.iter_rows(row_offset=1):\n",
    "            if(row[0].value!=None):  \n",
    "                pinnyleagues[int(row[0].value)]=[row[1].value,row[2].value]\n",
    "            else:\n",
    "                break\n",
    "    \n",
    "        "
   ]
  },
  {
   "cell_type": "code",
   "execution_count": null,
   "metadata": {
    "collapsed": true
   },
   "outputs": [],
   "source": [
    "buildpinnyleaguesdict()"
   ]
  },
  {
   "cell_type": "code",
   "execution_count": null,
   "metadata": {
    "collapsed": true
   },
   "outputs": [],
   "source": [
    "def exportallsportleaguesfrompinny(sportid):\n",
    "    leagues=(api.reference_data.get_leagues(sport_id=sportid))\n",
    "    wb=load_workbook(filename = fname)\n",
    "    if len(pinnysports)==0:\n",
    "        buildpinnysports()\n",
    "    if  \"my \"+ pinnysports[sportid] +\" Leagues\"  not in wb.get_sheet_names():\n",
    "        sheet=wb.create_sheet(\"my \"+ pinnysports[sportid] +\" Leagues\")\n",
    "    else:\n",
    "        sheet=wb.get_sheet_by_name(\"my \"+ pinnysports[sportid] +\" Leagues\")\n",
    "    #sheet.title=\n",
    "    sheet.cell(row=1, column=1).value =\"League ID\"\n",
    "    sheet.cell(row=1, column=2).value =\"League Name\"\n",
    "\n",
    "    #sheet.cell(row=1, column=3).value =\"VS\"\n",
    "    for key, league in  Oddsle:\n",
    "           sheet.cell(row=index+2, column=1).value =key\n",
    "           sheet.cell(row=index+2, column=2).value =le\n",
    "    wb.save(fname)\n",
    "     \n",
    "        "
   ]
  },
  {
   "cell_type": "code",
   "execution_count": 178,
   "metadata": {
    "collapsed": true,
    "scrolled": true
   },
   "outputs": [],
   "source": [
    "def getthepinnyoddsforallsports():\n",
    "    #set_trace()\n",
    "    Eventsqueue.empty()\n",
    "    if len(pinnyleaguese)==0:\n",
    "        buildpinnyleaguesdict()\n",
    "    if len(pinnysports)==0:\n",
    "        buildpinnysports()\n",
    "\n",
    "   # threads = [threading.Thread(target=Fixturesgen.next(), args=(, )) for i in range(numofthreads)]\n",
    "    for  key in pinnyleagues.keys():\n",
    "       gen=getthepinnyodds(key)\n",
    "       try :\n",
    "           \n",
    "            runthreads(gen.__next__,len(list(gen)),4)\n",
    "       except StopIteration:\n",
    "            continue\n"
   ]
  },
  {
   "cell_type": "code",
   "execution_count": 141,
   "metadata": {
    "collapsed": true
   },
   "outputs": [],
   "source": [
    "@threadsafe_generator\n",
    "def getthepinnyodds(leagueid):\n",
    "    \n",
    "        try:\n",
    "            sportid=pinnyleagues[leagueid][1]\n",
    "            fixtures=api.market_data.get_fixtures(sport_id=sportid,is_live=False,league_ids=[leagueid],since=1000)\n",
    "            for event  in fixtures[\"league\"][0][\"events\"]:\n",
    "                tempevent=pinnyEvent()\n",
    "                tempevent.sportid=sportid\n",
    "                #print(event[\"starts\"])\n",
    "                tempevent.leagueid=fixtures[\"league\"][0][\"id\"]\n",
    "\n",
    "                tempevent.startdate=parser.parse(event[\"starts\"]).date()\n",
    "\n",
    "                tempevent.hometeam=event[\"home\"].lower()\n",
    "                tempevent.awayteam=event[\"away\"].lower()\n",
    "                tempevent.rotnumber=event[\"rotNum\"]\n",
    "                tempevent.eventid=event[\"id\"]\n",
    "                #getdate only for next 7 days\n",
    "                if tempevent.startdate> datetime.now().date() +  timedelta(days=7):\n",
    "                    logging.info(\"event is ,ore than 7 days ahead \"+str(tempevent))\n",
    "                    continue\n",
    "\n",
    "                #Money Line\n",
    "            #     homeline=api.market_data.get_line(bet_type=enums.BetType.MoneyLine.value,odds_format=enums.OddsFormat.Decimal.value,event_id=tempevent.eventid,league_id=tempevent.leagueid,sport_id=29,team=enums.TeamType.Team1.value,period_number=0)\n",
    "            #     awayline=api.market_data.get_line(bet_type=enums.BetType.MoneyLine.value,odds_format=enums.OddsFormat.Decimal.value,event_id=tempevent.eventid,league_id=tempevent.leagueid,sport_id=29,team=enums.TeamType.Team2.value,period_number=0)\n",
    "            #     drawline=api.market_data.get_line(bet_type=enums.BetType.MoneyLine.value,odds_format=enums.OddsFormat.Decimal.value,event_id=tempevent.eventid,league_id=tempevent.leagueid,sport_id=29,team=enums.TeamType.Draw.value,period_number=0)\n",
    "            #     print(event.keys())\n",
    "            #     # Totals\n",
    "            #     totaloverline=api.market_data.get_line(bet_type=enums.BetType.Total.value,odds_format=enums.OddsFormat.Decimal.value,event_id=tempevent.eventid,league_id=tempevent.leagueid,sport_id=29,side=enums.Side.Over.value,period_number=0)\n",
    "            #     totalunderline=api.market_data.get_line(bet_type=enums.BetType.Total.value,odds_format=enums.OddsFormat.Decimal.value,event_id=tempevent.eventid,league_id=tempevent.leagueid,sport_id=29,side=enums.Side.Under.value,period_number=0)   \n",
    "            #     # Spread\n",
    "            #     HomeAHline=api.market_data.get_line(bet_type=enums.BetType.Spread.value,odds_format=enums.OddsFormat.Decimal.value,event_id=tempevent.eventid,league_id=tempevent.leagueid,sport_id=29,team=enums.TeamType.Team1.value,period_number=0)\n",
    "            #     awayAHLine=api.market_data.get_line(bet_type=enums.BetType.Spread.value,odds_format=enums.OddsFormat.Decimal.value,event_id=tempevent.eventid,league_id=tempevent.leagueid,sport_id=29,team=enums.TeamType.Team2.value,period_number=0)\n",
    "\n",
    "            #     #TeamTotals\n",
    "            #     teamtotaloverline=api.market_data.get_line(bet_type=enums.BetType.TeamTotal.value,odds_format=enums.OddsFormat.Decimal.value,event_id=tempevent.eventid,league_id=tempevent.leagueid,sport_id=29,side=enums.Side.Over.value,team=enums.TeamType.Team1.value,period_number=0)\n",
    "            #     teamtotalunderine=api.market_data.get_line(bet_type=enums.BetType.TeamTotal.value,odds_format=enums.OddsFormat.Decimal.value,event_id=tempevent.eventid,league_id=tempevent.leagueid,sport_id=29,side=enums.Side.Under.value,team=enums.TeamType.Team1.value,period_number=0)    \n",
    "            #     teamtotaloverline=api.market_data.get_line(bet_type=enums.BetType.TeamTotal.value,odds_format=enums.OddsFormat.Decimal.value,event_id=tempevent.eventid,league_id=tempevent.leagueid,sport_id=29,side=enums.Side.Over.value,team=enums.TeamType.Team2.value,period_number=0)\n",
    "            #     teamtotalunderine=api.market_data.get_line(bet_type=enums.BetType.TeamTotal.value,odds_format=enums.OddsFormat.Decimal.value,event_id=tempevent.eventid,league_id=tempevent.leagueid,sport_id=29,side=enums.Side.Under.value,team=enums.TeamType.Team2.value,period_number=0)    \n",
    "\n",
    "                try :\n",
    "                   odds=api.market_data.get_odds(event_ids=[tempevent.eventid],odds_format=enums.OddsFormat.Decimal.value,since=10000,sport_id=sportid,league_ids=[tempevent.leagueid])\n",
    "                   #baseball pitchers\n",
    "                   if sportid == 3:\n",
    "                    tempevent.homepitcher=event[\"homePitcher\"]\n",
    "                    tempevent.awaypitcher=event[\"awayPitcher\"]\n",
    "                   #spread\n",
    "                   try:\n",
    "                       tempevent.spread=odds[\"leagues\"][0][\"events\"][0][\"periods\"][0][\"spreads\"][0][\"hdp\"]\n",
    "                       tempevent.homespread=odds[\"leagues\"][0][\"events\"][0][\"periods\"][0][\"spreads\"][0][\"home\"]   \n",
    "                       tempevent.awayspread=odds[\"leagues\"][0][\"events\"][0][\"periods\"][0][\"spreads\"][0][\"away\"]                     \n",
    "                   except  KeyError:\n",
    "                       logging.info(\"no spread for  this event\"+str(tempevent))\n",
    "                       \n",
    "                   #total\n",
    "                   try:\n",
    "                       tempevent.totals=odds[\"leagues\"][0][\"events\"][0][\"periods\"][0][\"totals\"][0][\"points\"]\n",
    "                       tempevent.totalsover=odds[\"leagues\"][0][\"events\"][0][\"periods\"][0][\"totals\"][0][\"over\"]\n",
    "                       tempevent.totalsunder=odds[\"leagues\"][0][\"events\"][0][\"periods\"][0][\"totals\"][0][\"under\"] \n",
    "                   except KeyError:\n",
    "                       logging.info(\"no totals for  this event\"+str(tempevent))\n",
    "                     \n",
    "                \n",
    "                   #ML odds\n",
    "                   tempevent.homeodds=odds[\"leagues\"][0][\"events\"][0][\"periods\"][0][\"moneyline\"][\"home\"]\n",
    "                   tempevent.awayodds=odds[\"leagues\"][0][\"events\"][0][\"periods\"][0][\"moneyline\"][\"away\"]\n",
    "                   if sportid==29:                            #soccer  has draw \n",
    "                       tempevent.drawodds=odds[\"leagues\"][0][\"events\"][0][\"periods\"][0][\"moneyline\"][\"draw\"]\n",
    "                   #total odds\n",
    "                   try :\n",
    "                       tempevent.hteamtotals=odds[\"leagues\"][0][\"events\"][0][\"periods\"][0][\"teamTotal\"][\"home\"][\"points\"]\n",
    "                       tempevent.ateamtotls=odds[\"leagues\"][0][\"events\"][0][\"periods\"][0][\"teamTotal\"][\"away\"][\"points\"]\n",
    "                       tempevent.httotlasover=odds[\"leagues\"][0][\"events\"][0][\"periods\"][0][\"teamTotal\"][\"home\"][\"over\"]\n",
    "                       tempevent.httunder=odds[\"leagues\"][0][\"events\"][0][\"periods\"][0][\"teamTotal\"][\"home\"][\"under\"]                    \n",
    "                       tempevent.attover=odds[\"leagues\"][0][\"events\"][0][\"periods\"][0][\"teamTotal\"][\"away\"][\"over\"]   \n",
    "                       tempevent.attunder=odds[\"leagues\"][0][\"events\"][0][\"periods\"][0][\"teamTotal\"][\"away\"][\"under\"]  \n",
    "                   \n",
    "                   except KeyError as e:            # Team Totals are not yet up\n",
    "                        logging.info(\"no team team total for  this event\"+str(tempevent))\n",
    "                   logging.info(\"odds exracted for this event\"+str(tempevent))  \n",
    "                  \n",
    "                except Exception as e:\n",
    "                    logging.debug(\"Odds not found for this game\"+\" \"+str(tempevent) +str(e))\n",
    "                    continue\n",
    "                try:\n",
    "                  # set_trace()\n",
    "                   #print(tempevent)\n",
    "                   Eventsqueue.put(tempevent)\n",
    "                   yield(tempevent) \n",
    "                   logging.info(\"odds yielded for this event\"+str(tempevent))                               \n",
    "                except StopIteration:\n",
    "                    break\n",
    "        except JSONDecodeError  as e:\n",
    "                logging.debug(\"no fixture found for this league \"+ pinnyleagues[leagueid][0])\n",
    "\n",
    "\n",
    "\n",
    "\n",
    "                #if(line[\"status\"]==\"SUCCESS\"):\n",
    "                    #print(line[\"price\"])\n",
    "\n",
    "\n"
   ]
  },
  {
   "cell_type": "code",
   "execution_count": 142,
   "metadata": {
    "collapsed": true
   },
   "outputs": [],
   "source": [
    "def buttonclick(change):\n",
    "    button.disabled=True\n",
    "    t.disabled=True\n",
    "    gen=getthepinnyodds(leagueid=int(leagueidlabel.value))\n",
    "    while True:\n",
    "        try:\n",
    "            if len(pinnysports) ==0:\n",
    "                buildpinnysports()\n",
    "            if len(pinnyleagues) ==0::\n",
    "                buildpinnyleaguesdict()    \n",
    "                \n",
    "            print(gen.__next__())\n",
    "        except StopIteration:\n",
    "            break\n",
    "    button.disabled=False\n",
    "    t.disabled=False\n",
    "def changelabelname(change):\n",
    "    leagueidlabel.value=str(list(pinnyleagues.keys())[t.index])\n",
    "t=widgets.Select(options=pinnyleagues.values())\n",
    "t.layout.width=\"initial\"\n",
    "button=widgets.Button()\n",
    "button.description=\"Update the odds\"\n",
    "button.style.button_color=\"skyblue\"\n",
    "button.on_click(buttonclick)\n",
    "leagueidlabel=widgets.Label(\"LeagueID\")\n",
    "#leagueidlabel.values=\"gggg\"\n",
    "t.observe(changelabelname,names=[\"label\"])\n",
    "\n",
    "\n",
    "\n"
   ]
  },
  {
   "cell_type": "code",
   "execution_count": 143,
   "metadata": {},
   "outputs": [
    {
     "data": {
      "application/vnd.jupyter.widget-view+json": {
       "model_id": "d564cde6613545969b638da71aa2a18b",
       "version_major": 2,
       "version_minor": 0
      },
      "text/plain": [
       "A Jupyter Widget"
      ]
     },
     "metadata": {},
     "output_type": "display_data"
    },
    {
     "data": {
      "application/vnd.jupyter.widget-view+json": {
       "model_id": "da90cd4145cc42679a97867f63fb083d",
       "version_major": 2,
       "version_minor": 0
      },
      "text/plain": [
       "A Jupyter Widget"
      ]
     },
     "metadata": {},
     "output_type": "display_data"
    },
    {
     "data": {
      "application/vnd.jupyter.widget-view+json": {
       "model_id": "2ab8eb043b134c9da0d354409d372851",
       "version_major": 2,
       "version_minor": 0
      },
      "text/plain": [
       "A Jupyter Widget"
      ]
     },
     "metadata": {},
     "output_type": "display_data"
    }
   ],
   "source": [
    "clear_output()\n",
    "display(t,button,leagueidlabel)\n"
   ]
  },
  {
   "cell_type": "code",
   "execution_count": 144,
   "metadata": {},
   "outputs": [
    {
     "ename": "KeyError",
     "evalue": "'league'",
     "output_type": "error",
     "traceback": [
      "\u001b[1;31m---------------------------------------------------------------------------\u001b[0m",
      "\u001b[1;31mKeyError\u001b[0m                                  Traceback (most recent call last)",
      "\u001b[1;32m<ipython-input-144-7b23c17d6bb5>\u001b[0m in \u001b[0;36m<module>\u001b[1;34m()\u001b[0m\n\u001b[1;32m----> 1\u001b[1;33m \u001b[0mgetthepinnyoddsforallsports\u001b[0m\u001b[1;33m(\u001b[0m\u001b[1;33m)\u001b[0m\u001b[1;33m\u001b[0m\u001b[0m\n\u001b[0m",
      "\u001b[1;32m<ipython-input-54-c64195b4e6c9>\u001b[0m in \u001b[0;36mgetthepinnyoddsforallsports\u001b[1;34m()\u001b[0m\n\u001b[0;32m     10\u001b[0m        \u001b[1;32mtry\u001b[0m \u001b[1;33m:\u001b[0m\u001b[1;33m\u001b[0m\u001b[0m\n\u001b[0;32m     11\u001b[0m \u001b[1;33m\u001b[0m\u001b[0m\n\u001b[1;32m---> 12\u001b[1;33m             \u001b[0mrunthreads\u001b[0m\u001b[1;33m(\u001b[0m\u001b[0mgen\u001b[0m\u001b[1;33m.\u001b[0m\u001b[0m__next__\u001b[0m\u001b[1;33m,\u001b[0m\u001b[0mlen\u001b[0m\u001b[1;33m(\u001b[0m\u001b[0mlist\u001b[0m\u001b[1;33m(\u001b[0m\u001b[0mgen\u001b[0m\u001b[1;33m)\u001b[0m\u001b[1;33m)\u001b[0m\u001b[1;33m,\u001b[0m\u001b[1;36m4\u001b[0m\u001b[1;33m)\u001b[0m\u001b[1;33m\u001b[0m\u001b[0m\n\u001b[0m\u001b[0;32m     13\u001b[0m        \u001b[1;32mexcept\u001b[0m \u001b[0mStopIteration\u001b[0m\u001b[1;33m:\u001b[0m\u001b[1;33m\u001b[0m\u001b[0m\n\u001b[0;32m     14\u001b[0m             \u001b[1;32mcontinue\u001b[0m\u001b[1;33m\u001b[0m\u001b[0m\n",
      "\u001b[1;32m<ipython-input-45-4d0f2bae2abd>\u001b[0m in \u001b[0;36m__next__\u001b[1;34m(self)\u001b[0m\n\u001b[0;32m     12\u001b[0m     \u001b[1;32mdef\u001b[0m \u001b[0m__next__\u001b[0m\u001b[1;33m(\u001b[0m\u001b[0mself\u001b[0m\u001b[1;33m)\u001b[0m\u001b[1;33m:\u001b[0m\u001b[1;33m\u001b[0m\u001b[0m\n\u001b[0;32m     13\u001b[0m         \u001b[1;32mwith\u001b[0m \u001b[0mself\u001b[0m\u001b[1;33m.\u001b[0m\u001b[0mlock\u001b[0m\u001b[1;33m:\u001b[0m\u001b[1;33m\u001b[0m\u001b[0m\n\u001b[1;32m---> 14\u001b[1;33m                 \u001b[1;32mreturn\u001b[0m \u001b[0mself\u001b[0m\u001b[1;33m.\u001b[0m\u001b[0mit\u001b[0m\u001b[1;33m.\u001b[0m\u001b[0m__next__\u001b[0m\u001b[1;33m(\u001b[0m\u001b[1;33m)\u001b[0m\u001b[1;33m\u001b[0m\u001b[0m\n\u001b[0m\u001b[0;32m     15\u001b[0m     \u001b[1;32mdef\u001b[0m \u001b[0m__str__\u001b[0m\u001b[1;33m(\u001b[0m\u001b[1;33m)\u001b[0m\u001b[1;33m:\u001b[0m\u001b[1;33m\u001b[0m\u001b[0m\n\u001b[0;32m     16\u001b[0m         \u001b[1;32mreturn\u001b[0m \u001b[0mstr\u001b[0m\u001b[1;33m(\u001b[0m\u001b[0mself\u001b[0m\u001b[1;33m)\u001b[0m\u001b[1;33m\u001b[0m\u001b[0m\n",
      "\u001b[1;32m<ipython-input-141-0c909a114546>\u001b[0m in \u001b[0;36mgetthepinnyodds\u001b[1;34m(leagueid)\u001b[0m\n\u001b[0;32m      5\u001b[0m             \u001b[0msportid\u001b[0m\u001b[1;33m=\u001b[0m\u001b[0mpinnyleagues\u001b[0m\u001b[1;33m[\u001b[0m\u001b[0mleagueid\u001b[0m\u001b[1;33m]\u001b[0m\u001b[1;33m[\u001b[0m\u001b[1;36m1\u001b[0m\u001b[1;33m]\u001b[0m\u001b[1;33m\u001b[0m\u001b[0m\n\u001b[0;32m      6\u001b[0m             \u001b[0mfixtures\u001b[0m\u001b[1;33m=\u001b[0m\u001b[0mapi\u001b[0m\u001b[1;33m.\u001b[0m\u001b[0mmarket_data\u001b[0m\u001b[1;33m.\u001b[0m\u001b[0mget_fixtures\u001b[0m\u001b[1;33m(\u001b[0m\u001b[0msport_id\u001b[0m\u001b[1;33m=\u001b[0m\u001b[0msportid\u001b[0m\u001b[1;33m,\u001b[0m\u001b[0mis_live\u001b[0m\u001b[1;33m=\u001b[0m\u001b[1;32mFalse\u001b[0m\u001b[1;33m,\u001b[0m\u001b[0mleague_ids\u001b[0m\u001b[1;33m=\u001b[0m\u001b[1;33m[\u001b[0m\u001b[0mleagueid\u001b[0m\u001b[1;33m]\u001b[0m\u001b[1;33m,\u001b[0m\u001b[0msince\u001b[0m\u001b[1;33m=\u001b[0m\u001b[1;36m1000\u001b[0m\u001b[1;33m)\u001b[0m\u001b[1;33m\u001b[0m\u001b[0m\n\u001b[1;32m----> 7\u001b[1;33m             \u001b[1;32mfor\u001b[0m \u001b[0mevent\u001b[0m  \u001b[1;32min\u001b[0m \u001b[0mfixtures\u001b[0m\u001b[1;33m[\u001b[0m\u001b[1;34m\"league\"\u001b[0m\u001b[1;33m]\u001b[0m\u001b[1;33m[\u001b[0m\u001b[1;36m0\u001b[0m\u001b[1;33m]\u001b[0m\u001b[1;33m[\u001b[0m\u001b[1;34m\"events\"\u001b[0m\u001b[1;33m]\u001b[0m\u001b[1;33m:\u001b[0m\u001b[1;33m\u001b[0m\u001b[0m\n\u001b[0m\u001b[0;32m      8\u001b[0m                 \u001b[0mtempevent\u001b[0m\u001b[1;33m=\u001b[0m\u001b[0mpinnyEvent\u001b[0m\u001b[1;33m(\u001b[0m\u001b[1;33m)\u001b[0m\u001b[1;33m\u001b[0m\u001b[0m\n\u001b[0;32m      9\u001b[0m                 \u001b[0mtempevent\u001b[0m\u001b[1;33m.\u001b[0m\u001b[0msportid\u001b[0m\u001b[1;33m=\u001b[0m\u001b[0msportid\u001b[0m\u001b[1;33m\u001b[0m\u001b[0m\n",
      "\u001b[1;31mKeyError\u001b[0m: 'league'"
     ]
    }
   ],
   "source": [
    "getthepinnyoddsforallsports()"
   ]
  },
  {
   "cell_type": "code",
   "execution_count": 137,
   "metadata": {
    "collapsed": true
   },
   "outputs": [],
   "source": [
    "tempqueue=Eventsqueue.queue.copy()"
   ]
  },
  {
   "cell_type": "code",
   "execution_count": 138,
   "metadata": {
    "collapsed": true
   },
   "outputs": [],
   "source": [
    "def updatetheextractedodds():\n",
    "    while len(tempqueue)>0:\n",
    "        tempevent=tempqueue.pop()\n",
    "        #print(tempevent)\n",
    "        #mma\n",
    "        if tempevent.leagueid in [1624,1619]:\n",
    "            updateCSVwithodds(Comp(sport=\"mma\"),tempevent)\n",
    "        #boxing \n",
    "        else:\n",
    "             updateCSVwithodds(Comp.leagues[tempevent.leagueid],tempevent)\n",
    "\n"
   ]
  },
  {
   "cell_type": "code",
   "execution_count": 139,
   "metadata": {
    "collapsed": true
   },
   "outputs": [],
   "source": [
    "def updateCSVwithodds(comp=None,pinnyevent=None):\n",
    "\n",
    "    if comp is None : \n",
    "        logging.info(\"no file for this extracted odds\")\n",
    "        return \"no file for this extracted odds\"\n",
    "    compname= comp.competitionname \n",
    "    if compname==\"wnba\" or compname!=\"2-bundesliga\" :\n",
    "        compname= Methods.replacecompetionanme(compname)   \n",
    "    if comp.country==\"egypt\":\n",
    "        fname=\"egyptian-\"+compname.lower().replace(\" \",\"-\").replace(\":\",\"-\") +\" \"+ comp.season+\".xlsx\"\n",
    "    elif comp.country==\"russia\":\n",
    "        fname=\"russian-\"+compname.lower().replace(\" \",\"-\").replace(\":\",\"-\") +\" \"+ comp.season+\".xlsx\"        \n",
    "    elif comp.sport==\"handball\":\n",
    "        fname=\"handball-\"+compname.lower().replace(\" \",\"-\").replace(\":\",\"-\") +\" \"+ comp.season+\".xlsx\"\n",
    "    elif comp.sport==\"mma\" or comp.sport==\"boxing\" :\n",
    "        fname=  comp.sport + \" \" + comp.season+\".xlsx\"\n",
    "    elif compname==\"super-cup\":\n",
    "        fname= comp.country + \" \" + compname.lower().replace(\" \",\"-\").replace(\":\",\"-\") + \" \"+comp.season+\".xlsx\" \n",
    "    elif compname==\"premiership\" and comp.sport==\"rugby-union\":\n",
    "        fname=\"aviva \"+compname.lower().replace(\" \",\"-\").replace(\":\",\"-\") +\" \"+ comp.season+\".xlsx\"       \n",
    "    else:\n",
    "        fname=compname.lower().replace(\" \",\"-\").replace(\":\",\"-\") +\" \"+ comp.season+\".xlsx\"\n",
    "\n",
    "    logging.info(\"File name is :{0}\".format(fname)) \n",
    "\n",
    "    if not os.path.exists(DataMiningspath+fname):\n",
    "        logging.info(\"{0} {1} {2}fixtures not saved yet\".format(comp.sport,comp.country,compname))\n",
    "        return comp.sport+\" \"+ comp.country+\" \"+ compname +\" fixtures not saved yet\"\n",
    "    wb = load_workbook(filename = DataMiningspath+fname)\n",
    "    sheet=wb.active\n",
    "    sheet.column_dimensions['L'].hidden= True\n",
    "    sheet.column_dimensions['M'].hidden= True\n",
    "    counter=0\n",
    "    logging.info(\"file openned\")\n",
    "    eventdate=pinnyevent.startdate\n",
    "    margin = timedelta(days=1)\n",
    "    for index,row in enumerate(sheet.iter_rows()):\n",
    "                #set_trace()\n",
    "                if  index!=0 and (eventdate-margin<=parser.parse(row[4].value,dayfirst=True).date()<=eventdate+margin):\n",
    "                     player1text= row[1].value.lower().split(\"(\")[0].replace(\".\",\"\") if \"(\" in row[1].value else row[1].value.lower().replace(\".\",\"\")\n",
    "                     player2text=row[2].value.lower().split(\"(\")[0].replace(\".\",\"\") if \"(\" in row[2].value else row[2].value.lower().replace(\".\",\"\")\n",
    "                     if(fuzz.token_sort_ratio(player1text,tempevent.hometeam)>=90):\n",
    "                            print(player1text)\n",
    "                    \n",
    "            \n",
    "    sheet=Methods.adjustwidth(sheet)\n",
    "    try:  \n",
    "        wb.save(DataMiningspath+fname)\n",
    "        logging.info(\"league {0} : {1} {2} matches updated\".format(comp.country,compname,str(str(counter))))\n",
    "        return  (\"league \" + comp.country +\" :\"+compname +\" \"+ str(counter)+ \" matches updated\")\n",
    "    except Exception as e:\n",
    "        return(fname + \"is open by other person\")"
   ]
  },
  {
   "cell_type": "code",
   "execution_count": 140,
   "metadata": {},
   "outputs": [
    {
     "ename": "AttributeError",
     "evalue": "'NoneType' object has no attribute 'hometeam'",
     "output_type": "error",
     "traceback": [
      "\u001b[1;31m---------------------------------------------------------------------------\u001b[0m",
      "\u001b[1;31mAttributeError\u001b[0m                            Traceback (most recent call last)",
      "\u001b[1;32m<ipython-input-140-d955bf5656e0>\u001b[0m in \u001b[0;36m<module>\u001b[1;34m()\u001b[0m\n\u001b[0;32m      1\u001b[0m \u001b[1;33m\u001b[0m\u001b[0m\n\u001b[1;32m----> 2\u001b[1;33m \u001b[0mupdatetheextractedodds\u001b[0m\u001b[1;33m(\u001b[0m\u001b[1;33m)\u001b[0m\u001b[1;33m\u001b[0m\u001b[0m\n\u001b[0m",
      "\u001b[1;32m<ipython-input-138-09cf8826f1ee>\u001b[0m in \u001b[0;36mupdatetheextractedodds\u001b[1;34m()\u001b[0m\n\u001b[0;32m      5\u001b[0m         \u001b[1;31m#mma\u001b[0m\u001b[1;33m\u001b[0m\u001b[1;33m\u001b[0m\u001b[0m\n\u001b[0;32m      6\u001b[0m         \u001b[1;32mif\u001b[0m \u001b[0mtempevent\u001b[0m\u001b[1;33m.\u001b[0m\u001b[0mleagueid\u001b[0m \u001b[1;32min\u001b[0m \u001b[1;33m[\u001b[0m\u001b[1;36m1624\u001b[0m\u001b[1;33m,\u001b[0m\u001b[1;36m1619\u001b[0m\u001b[1;33m]\u001b[0m\u001b[1;33m:\u001b[0m\u001b[1;33m\u001b[0m\u001b[0m\n\u001b[1;32m----> 7\u001b[1;33m             \u001b[0mupdateCSVwithodds\u001b[0m\u001b[1;33m(\u001b[0m\u001b[0mComp\u001b[0m\u001b[1;33m(\u001b[0m\u001b[0msport\u001b[0m\u001b[1;33m=\u001b[0m\u001b[1;34m\"mma\"\u001b[0m\u001b[1;33m)\u001b[0m\u001b[1;33m,\u001b[0m\u001b[0mtempevent\u001b[0m\u001b[1;33m)\u001b[0m\u001b[1;33m\u001b[0m\u001b[0m\n\u001b[0m\u001b[0;32m      8\u001b[0m         \u001b[1;31m#boxing\u001b[0m\u001b[1;33m\u001b[0m\u001b[1;33m\u001b[0m\u001b[0m\n\u001b[0;32m      9\u001b[0m         \u001b[1;32melse\u001b[0m\u001b[1;33m:\u001b[0m\u001b[1;33m\u001b[0m\u001b[0m\n",
      "\u001b[1;32m<ipython-input-139-523436dccec4>\u001b[0m in \u001b[0;36mupdateCSVwithodds\u001b[1;34m(comp, pinnyevent)\u001b[0m\n\u001b[0;32m     40\u001b[0m                      \u001b[0mplayer1text\u001b[0m\u001b[1;33m=\u001b[0m \u001b[0mrow\u001b[0m\u001b[1;33m[\u001b[0m\u001b[1;36m1\u001b[0m\u001b[1;33m]\u001b[0m\u001b[1;33m.\u001b[0m\u001b[0mvalue\u001b[0m\u001b[1;33m.\u001b[0m\u001b[0mlower\u001b[0m\u001b[1;33m(\u001b[0m\u001b[1;33m)\u001b[0m\u001b[1;33m.\u001b[0m\u001b[0msplit\u001b[0m\u001b[1;33m(\u001b[0m\u001b[1;34m\"(\"\u001b[0m\u001b[1;33m)\u001b[0m\u001b[1;33m[\u001b[0m\u001b[1;36m0\u001b[0m\u001b[1;33m]\u001b[0m\u001b[1;33m.\u001b[0m\u001b[0mreplace\u001b[0m\u001b[1;33m(\u001b[0m\u001b[1;34m\".\"\u001b[0m\u001b[1;33m,\u001b[0m\u001b[1;34m\"\"\u001b[0m\u001b[1;33m)\u001b[0m \u001b[1;32mif\u001b[0m \u001b[1;34m\"(\"\u001b[0m \u001b[1;32min\u001b[0m \u001b[0mrow\u001b[0m\u001b[1;33m[\u001b[0m\u001b[1;36m1\u001b[0m\u001b[1;33m]\u001b[0m\u001b[1;33m.\u001b[0m\u001b[0mvalue\u001b[0m \u001b[1;32melse\u001b[0m \u001b[0mrow\u001b[0m\u001b[1;33m[\u001b[0m\u001b[1;36m1\u001b[0m\u001b[1;33m]\u001b[0m\u001b[1;33m.\u001b[0m\u001b[0mvalue\u001b[0m\u001b[1;33m.\u001b[0m\u001b[0mlower\u001b[0m\u001b[1;33m(\u001b[0m\u001b[1;33m)\u001b[0m\u001b[1;33m.\u001b[0m\u001b[0mreplace\u001b[0m\u001b[1;33m(\u001b[0m\u001b[1;34m\".\"\u001b[0m\u001b[1;33m,\u001b[0m\u001b[1;34m\"\"\u001b[0m\u001b[1;33m)\u001b[0m\u001b[1;33m\u001b[0m\u001b[0m\n\u001b[0;32m     41\u001b[0m                      \u001b[0mplayer2text\u001b[0m\u001b[1;33m=\u001b[0m\u001b[0mrow\u001b[0m\u001b[1;33m[\u001b[0m\u001b[1;36m2\u001b[0m\u001b[1;33m]\u001b[0m\u001b[1;33m.\u001b[0m\u001b[0mvalue\u001b[0m\u001b[1;33m.\u001b[0m\u001b[0mlower\u001b[0m\u001b[1;33m(\u001b[0m\u001b[1;33m)\u001b[0m\u001b[1;33m.\u001b[0m\u001b[0msplit\u001b[0m\u001b[1;33m(\u001b[0m\u001b[1;34m\"(\"\u001b[0m\u001b[1;33m)\u001b[0m\u001b[1;33m[\u001b[0m\u001b[1;36m0\u001b[0m\u001b[1;33m]\u001b[0m\u001b[1;33m.\u001b[0m\u001b[0mreplace\u001b[0m\u001b[1;33m(\u001b[0m\u001b[1;34m\".\"\u001b[0m\u001b[1;33m,\u001b[0m\u001b[1;34m\"\"\u001b[0m\u001b[1;33m)\u001b[0m \u001b[1;32mif\u001b[0m \u001b[1;34m\"(\"\u001b[0m \u001b[1;32min\u001b[0m \u001b[0mrow\u001b[0m\u001b[1;33m[\u001b[0m\u001b[1;36m2\u001b[0m\u001b[1;33m]\u001b[0m\u001b[1;33m.\u001b[0m\u001b[0mvalue\u001b[0m \u001b[1;32melse\u001b[0m \u001b[0mrow\u001b[0m\u001b[1;33m[\u001b[0m\u001b[1;36m2\u001b[0m\u001b[1;33m]\u001b[0m\u001b[1;33m.\u001b[0m\u001b[0mvalue\u001b[0m\u001b[1;33m.\u001b[0m\u001b[0mlower\u001b[0m\u001b[1;33m(\u001b[0m\u001b[1;33m)\u001b[0m\u001b[1;33m.\u001b[0m\u001b[0mreplace\u001b[0m\u001b[1;33m(\u001b[0m\u001b[1;34m\".\"\u001b[0m\u001b[1;33m,\u001b[0m\u001b[1;34m\"\"\u001b[0m\u001b[1;33m)\u001b[0m\u001b[1;33m\u001b[0m\u001b[0m\n\u001b[1;32m---> 42\u001b[1;33m                      \u001b[1;32mif\u001b[0m\u001b[1;33m(\u001b[0m\u001b[0mfuzz\u001b[0m\u001b[1;33m.\u001b[0m\u001b[0mtoken_sort_ratio\u001b[0m\u001b[1;33m(\u001b[0m\u001b[0mplayer1text\u001b[0m\u001b[1;33m,\u001b[0m\u001b[0mtempevent\u001b[0m\u001b[1;33m.\u001b[0m\u001b[0mhometeam\u001b[0m\u001b[1;33m)\u001b[0m\u001b[1;33m>=\u001b[0m\u001b[1;36m90\u001b[0m\u001b[1;33m)\u001b[0m\u001b[1;33m:\u001b[0m\u001b[1;33m\u001b[0m\u001b[0m\n\u001b[0m\u001b[0;32m     43\u001b[0m                             \u001b[0mprint\u001b[0m\u001b[1;33m(\u001b[0m\u001b[0mplayer1text\u001b[0m\u001b[1;33m)\u001b[0m\u001b[1;33m\u001b[0m\u001b[0m\n\u001b[0;32m     44\u001b[0m \u001b[1;33m\u001b[0m\u001b[0m\n",
      "\u001b[1;31mAttributeError\u001b[0m: 'NoneType' object has no attribute 'hometeam'"
     ]
    }
   ],
   "source": [
    "\n",
    "updatetheextractedodds()"
   ]
  },
  {
   "cell_type": "code",
   "execution_count": null,
   "metadata": {
    "collapsed": true
   },
   "outputs": [],
   "source": [
    "\n",
    "Comp.leagues[2406].competitionname"
   ]
  },
  {
   "cell_type": "code",
   "execution_count": null,
   "metadata": {
    "collapsed": true
   },
   "outputs": [],
   "source": []
  },
  {
   "cell_type": "code",
   "execution_count": null,
   "metadata": {
    "collapsed": true
   },
   "outputs": [],
   "source": []
  },
  {
   "cell_type": "code",
   "execution_count": null,
   "metadata": {
    "collapsed": true
   },
   "outputs": [],
   "source": []
  },
  {
   "cell_type": "code",
   "execution_count": null,
   "metadata": {
    "collapsed": true
   },
   "outputs": [],
   "source": []
  },
  {
   "cell_type": "code",
   "execution_count": 179,
   "metadata": {},
   "outputs": [
    {
     "name": "stdout",
     "output_type": "stream",
     "text": [
      "Competiton is premier-league the sport is soccer\n",
      "Competiton is championship the sport is soccer\n",
      "Competiton is efl-cup the sport is soccer\n",
      "Competiton is fa-cup the sport is soccer\n",
      "Competiton is fa-community-shield the sport is soccer\n",
      "Competiton is ligue-1 the sport is soccer\n",
      "Competiton is ligue-2 the sport is soccer\n",
      "Competiton is coupe-de-la-ligue the sport is soccer\n",
      "Competiton is coupe-de-france the sport is soccer\n",
      "Competiton is super-cup the sport is soccer\n",
      "Competiton is bundesliga the sport is soccer\n",
      "Competiton is 2-bundesliga the sport is soccer\n",
      "Competiton is dfb-pokal the sport is soccer\n",
      "Competiton is super-cup the sport is soccer\n",
      "Competiton is serie-a the sport is soccer\n",
      "Competiton is coppa-italia the sport is soccer\n",
      "Competiton is super-cup the sport is soccer\n",
      "Competiton is laliga the sport is soccer\n",
      "Competiton is copa-del-rey the sport is soccer\n",
      "Competiton is super-cup the sport is soccer\n",
      "Competiton is caf-champions-league the sport is soccer\n",
      "Competiton is caf-confederations-cup the sport is soccer\n",
      "Competiton is caf-super-cup the sport is soccer\n",
      "Competiton is champions-league the sport is soccer\n",
      "Competiton is europa-league the sport is soccer\n",
      "Competiton is uefa-super-cup the sport is soccer\n",
      "Competiton is premier-league the sport is soccer\n",
      "Competiton is egypt-cup the sport is soccer\n",
      "Competiton is super-cup the sport is soccer\n",
      "Competiton is afc-champions-league the sport is soccer\n",
      "Competiton is copa-libertadores the sport is soccer\n",
      "Competiton is eredivisie the sport is soccer\n",
      "Competiton is primeira-liga the sport is soccer\n",
      "Competiton is premiership the sport is soccer\n",
      "Competiton is premier-league the sport is soccer\n",
      "Competiton is nba the sport is basketball\n",
      "Competiton is nba the sport is basketball\n",
      "Competiton is wnba the sport is basketball\n",
      "Competiton is ncaa the sport is basketball\n",
      "Competiton is nit the sport is basketball\n",
      "Competiton is cbi the sport is basketball\n",
      "Competiton is cit the sport is basketball\n",
      "Competiton is big3-3x3 the sport is basketball\n",
      "Competiton is euroleague the sport is basketball\n",
      "Competiton is world-cup the sport is basketball\n",
      "Competiton is nhl the sport is hockey\n",
      "Competiton is nhl the sport is hockey\n",
      "Competiton is premiership-rugby the sport is rugby-union\n",
      "Competiton is top-14 the sport is rugby-union\n",
      "Competiton is six-nations the sport is rugby-union\n",
      "Competiton is european-rugby-champions-cup the sport is rugby-union\n",
      "Competiton is challenge-cup the sport is rugby-union\n",
      "Competiton is guinness-pro14 the sport is rugby-union\n",
      "Competiton is super-rugby the sport is rugby-union\n",
      "Competiton is mlb the sport is baseball\n",
      "Competiton is big-bash-league the sport is cricket\n",
      "Competiton is ipl the sport is cricket\n",
      "Competiton is test-series the sport is cricket\n",
      "Competiton is icc-world-cup the sport is cricket\n",
      "Competiton is one-day-international the sport is cricket\n",
      "Competiton is twenty20-international the sport is cricket\n",
      "Competiton is the-ashes the sport is cricket\n",
      "Competiton is vitality-blast the sport is cricket\n",
      "Competiton is nfl the sport is american-football\n",
      "Competiton is nfl the sport is american-football\n",
      "Competiton is ncaa the sport is american-football\n",
      "Competiton is cfl the sport is american-football\n",
      "Competiton is champions-league the sport is handball\n"
     ]
    }
   ],
   "source": [
    "for comp in Comp.leagues.values():\n",
    "    print (comp)"
   ]
  },
  {
   "cell_type": "code",
   "execution_count": null,
   "metadata": {
    "collapsed": true
   },
   "outputs": [],
   "source": []
  },
  {
   "cell_type": "code",
   "execution_count": null,
   "metadata": {
    "collapsed": true
   },
   "outputs": [],
   "source": [
    "[l[\"name\"]+str(l[\"id\"] )for l in api.reference_data.get_leagues(sport_id=29)] "
   ]
  },
  {
   "cell_type": "code",
   "execution_count": null,
   "metadata": {
    "collapsed": true
   },
   "outputs": [],
   "source": []
  },
  {
   "cell_type": "code",
   "execution_count": null,
   "metadata": {
    "collapsed": true
   },
   "outputs": [],
   "source": []
  },
  {
   "cell_type": "code",
   "execution_count": null,
   "metadata": {
    "collapsed": true
   },
   "outputs": [],
   "source": []
  },
  {
   "cell_type": "code",
   "execution_count": null,
   "metadata": {
    "collapsed": true
   },
   "outputs": [],
   "source": []
  },
  {
   "cell_type": "code",
   "execution_count": null,
   "metadata": {
    "collapsed": true
   },
   "outputs": [],
   "source": []
  },
  {
   "cell_type": "code",
   "execution_count": null,
   "metadata": {
    "collapsed": true
   },
   "outputs": [],
   "source": []
  },
  {
   "cell_type": "code",
   "execution_count": null,
   "metadata": {
    "collapsed": true
   },
   "outputs": [],
   "source": []
  },
  {
   "cell_type": "code",
   "execution_count": null,
   "metadata": {
    "collapsed": true
   },
   "outputs": [],
   "source": [
    "fixtures=getthepinnyodds(leagueid=1977)\n",
    "    "
   ]
  },
  {
   "cell_type": "code",
   "execution_count": null,
   "metadata": {
    "collapsed": true
   },
   "outputs": [],
   "source": [
    "next(fixtures)"
   ]
  },
  {
   "cell_type": "code",
   "execution_count": null,
   "metadata": {
    "collapsed": true
   },
   "outputs": [],
   "source": []
  },
  {
   "cell_type": "code",
   "execution_count": null,
   "metadata": {
    "collapsed": true
   },
   "outputs": [],
   "source": []
  },
  {
   "cell_type": "code",
   "execution_count": 133,
   "metadata": {
    "collapsed": true
   },
   "outputs": [],
   "source": [
    "st=\"liz carmouche\"\n",
    "str2=\"Carmouche L. (Usa)\"\n"
   ]
  },
  {
   "cell_type": "code",
   "execution_count": 134,
   "metadata": {},
   "outputs": [
    {
     "data": {
      "text/plain": [
       "92"
      ]
     },
     "execution_count": 134,
     "metadata": {},
     "output_type": "execute_result"
    }
   ],
   "source": [
    "fuzz.token_sort_ratio(st.lower(),str2.lower().split(\"(\")[0].replace(\".\",\"\"))"
   ]
  },
  {
   "cell_type": "code",
   "execution_count": null,
   "metadata": {
    "collapsed": true
   },
   "outputs": [],
   "source": [
    "st=\"liz carmouche\"\n",
    "str2=\"mohammed ragheb)\"\n"
   ]
  },
  {
   "cell_type": "code",
   "execution_count": null,
   "metadata": {
    "collapsed": true
   },
   "outputs": [],
   "source": []
  }
 ],
 "metadata": {
  "kernelspec": {
   "display_name": "Python 3",
   "language": "python",
   "name": "python3"
  },
  "language_info": {
   "codemirror_mode": {
    "name": "ipython",
    "version": 3
   },
   "file_extension": ".py",
   "mimetype": "text/x-python",
   "name": "python",
   "nbconvert_exporter": "python",
   "pygments_lexer": "ipython3",
   "version": "3.6.2"
  }
 },
 "nbformat": 4,
 "nbformat_minor": 2
}
