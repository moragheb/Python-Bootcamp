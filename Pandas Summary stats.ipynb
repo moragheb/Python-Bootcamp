{
 "cells": [
  {
   "cell_type": "code",
   "execution_count": 37,
   "metadata": {},
   "outputs": [],
   "source": [
    "import numpy as np\n",
    "import pandas\n",
    "from pandas import Series, DataFrame\n",
    "import pandas_datareader.data as pdweb\n",
    "import datetime\n",
    "import seaborn as sb\n",
    "import matplotlib as plt \n"
   ]
  },
  {
   "cell_type": "code",
   "execution_count": 5,
   "metadata": {},
   "outputs": [],
   "source": [
    "arr=np.array([[2,3,4],[np.nan,5,6],[7,8,9]])"
   ]
  },
  {
   "cell_type": "code",
   "execution_count": 6,
   "metadata": {
    "collapsed": true
   },
   "outputs": [],
   "source": [
    "frame=DataFrame(arr,index=list(\"ABC\"),columns=[1,2,3])"
   ]
  },
  {
   "cell_type": "code",
   "execution_count": 7,
   "metadata": {},
   "outputs": [
    {
     "data": {
      "text/html": [
       "<div>\n",
       "<style>\n",
       "    .dataframe thead tr:only-child th {\n",
       "        text-align: right;\n",
       "    }\n",
       "\n",
       "    .dataframe thead th {\n",
       "        text-align: left;\n",
       "    }\n",
       "\n",
       "    .dataframe tbody tr th {\n",
       "        vertical-align: top;\n",
       "    }\n",
       "</style>\n",
       "<table border=\"1\" class=\"dataframe\">\n",
       "  <thead>\n",
       "    <tr style=\"text-align: right;\">\n",
       "      <th></th>\n",
       "      <th>1</th>\n",
       "      <th>2</th>\n",
       "      <th>3</th>\n",
       "    </tr>\n",
       "  </thead>\n",
       "  <tbody>\n",
       "    <tr>\n",
       "      <th>A</th>\n",
       "      <td>2.0</td>\n",
       "      <td>3.0</td>\n",
       "      <td>4.0</td>\n",
       "    </tr>\n",
       "    <tr>\n",
       "      <th>B</th>\n",
       "      <td>NaN</td>\n",
       "      <td>5.0</td>\n",
       "      <td>6.0</td>\n",
       "    </tr>\n",
       "    <tr>\n",
       "      <th>C</th>\n",
       "      <td>7.0</td>\n",
       "      <td>8.0</td>\n",
       "      <td>9.0</td>\n",
       "    </tr>\n",
       "  </tbody>\n",
       "</table>\n",
       "</div>"
      ],
      "text/plain": [
       "     1    2    3\n",
       "A  2.0  3.0  4.0\n",
       "B  NaN  5.0  6.0\n",
       "C  7.0  8.0  9.0"
      ]
     },
     "execution_count": 7,
     "metadata": {},
     "output_type": "execute_result"
    }
   ],
   "source": [
    "frame"
   ]
  },
  {
   "cell_type": "code",
   "execution_count": 8,
   "metadata": {},
   "outputs": [
    {
     "data": {
      "text/plain": [
       "1     9.0\n",
       "2    16.0\n",
       "3    19.0\n",
       "dtype: float64"
      ]
     },
     "execution_count": 8,
     "metadata": {},
     "output_type": "execute_result"
    }
   ],
   "source": [
    "frame.sum()"
   ]
  },
  {
   "cell_type": "code",
   "execution_count": 9,
   "metadata": {},
   "outputs": [
    {
     "data": {
      "text/plain": [
       "A     9.0\n",
       "B    11.0\n",
       "C    24.0\n",
       "dtype: float64"
      ]
     },
     "execution_count": 9,
     "metadata": {},
     "output_type": "execute_result"
    }
   ],
   "source": [
    "frame.sum(axis=1)"
   ]
  },
  {
   "cell_type": "code",
   "execution_count": 13,
   "metadata": {},
   "outputs": [
    {
     "data": {
      "text/plain": [
       "A    3.0\n",
       "B    5.5\n",
       "C    8.0\n",
       "dtype: float64"
      ]
     },
     "execution_count": 13,
     "metadata": {},
     "output_type": "execute_result"
    }
   ],
   "source": [
    "frame.mean(axis=1)"
   ]
  },
  {
   "cell_type": "code",
   "execution_count": 12,
   "metadata": {},
   "outputs": [
    {
     "data": {
      "text/plain": [
       "1    4.5\n",
       "2    5.0\n",
       "3    6.0\n",
       "dtype: float64"
      ]
     },
     "execution_count": 12,
     "metadata": {},
     "output_type": "execute_result"
    }
   ],
   "source": [
    "frame.median()"
   ]
  },
  {
   "cell_type": "code",
   "execution_count": 14,
   "metadata": {},
   "outputs": [
    {
     "data": {
      "text/html": [
       "<div>\n",
       "<style>\n",
       "    .dataframe thead tr:only-child th {\n",
       "        text-align: right;\n",
       "    }\n",
       "\n",
       "    .dataframe thead th {\n",
       "        text-align: left;\n",
       "    }\n",
       "\n",
       "    .dataframe tbody tr th {\n",
       "        vertical-align: top;\n",
       "    }\n",
       "</style>\n",
       "<table border=\"1\" class=\"dataframe\">\n",
       "  <thead>\n",
       "    <tr style=\"text-align: right;\">\n",
       "      <th></th>\n",
       "      <th>1</th>\n",
       "      <th>2</th>\n",
       "      <th>3</th>\n",
       "    </tr>\n",
       "  </thead>\n",
       "  <tbody>\n",
       "    <tr>\n",
       "      <th>A</th>\n",
       "      <td>2.0</td>\n",
       "      <td>3.0</td>\n",
       "      <td>4.0</td>\n",
       "    </tr>\n",
       "    <tr>\n",
       "      <th>B</th>\n",
       "      <td>NaN</td>\n",
       "      <td>8.0</td>\n",
       "      <td>10.0</td>\n",
       "    </tr>\n",
       "    <tr>\n",
       "      <th>C</th>\n",
       "      <td>9.0</td>\n",
       "      <td>16.0</td>\n",
       "      <td>19.0</td>\n",
       "    </tr>\n",
       "  </tbody>\n",
       "</table>\n",
       "</div>"
      ],
      "text/plain": [
       "     1     2     3\n",
       "A  2.0   3.0   4.0\n",
       "B  NaN   8.0  10.0\n",
       "C  9.0  16.0  19.0"
      ]
     },
     "execution_count": 14,
     "metadata": {},
     "output_type": "execute_result"
    }
   ],
   "source": [
    "frame.cumsum()"
   ]
  },
  {
   "cell_type": "code",
   "execution_count": 17,
   "metadata": {},
   "outputs": [
    {
     "data": {
      "text/html": [
       "<div>\n",
       "<style>\n",
       "    .dataframe thead tr:only-child th {\n",
       "        text-align: right;\n",
       "    }\n",
       "\n",
       "    .dataframe thead th {\n",
       "        text-align: left;\n",
       "    }\n",
       "\n",
       "    .dataframe tbody tr th {\n",
       "        vertical-align: top;\n",
       "    }\n",
       "</style>\n",
       "<table border=\"1\" class=\"dataframe\">\n",
       "  <thead>\n",
       "    <tr style=\"text-align: right;\">\n",
       "      <th></th>\n",
       "      <th>1</th>\n",
       "      <th>2</th>\n",
       "      <th>3</th>\n",
       "    </tr>\n",
       "  </thead>\n",
       "  <tbody>\n",
       "    <tr>\n",
       "      <th>count</th>\n",
       "      <td>2.000000</td>\n",
       "      <td>3.000000</td>\n",
       "      <td>3.000000</td>\n",
       "    </tr>\n",
       "    <tr>\n",
       "      <th>mean</th>\n",
       "      <td>4.500000</td>\n",
       "      <td>5.333333</td>\n",
       "      <td>6.333333</td>\n",
       "    </tr>\n",
       "    <tr>\n",
       "      <th>std</th>\n",
       "      <td>3.535534</td>\n",
       "      <td>2.516611</td>\n",
       "      <td>2.516611</td>\n",
       "    </tr>\n",
       "    <tr>\n",
       "      <th>min</th>\n",
       "      <td>2.000000</td>\n",
       "      <td>3.000000</td>\n",
       "      <td>4.000000</td>\n",
       "    </tr>\n",
       "    <tr>\n",
       "      <th>25%</th>\n",
       "      <td>3.250000</td>\n",
       "      <td>4.000000</td>\n",
       "      <td>5.000000</td>\n",
       "    </tr>\n",
       "    <tr>\n",
       "      <th>50%</th>\n",
       "      <td>4.500000</td>\n",
       "      <td>5.000000</td>\n",
       "      <td>6.000000</td>\n",
       "    </tr>\n",
       "    <tr>\n",
       "      <th>75%</th>\n",
       "      <td>5.750000</td>\n",
       "      <td>6.500000</td>\n",
       "      <td>7.500000</td>\n",
       "    </tr>\n",
       "    <tr>\n",
       "      <th>max</th>\n",
       "      <td>7.000000</td>\n",
       "      <td>8.000000</td>\n",
       "      <td>9.000000</td>\n",
       "    </tr>\n",
       "  </tbody>\n",
       "</table>\n",
       "</div>"
      ],
      "text/plain": [
       "              1         2         3\n",
       "count  2.000000  3.000000  3.000000\n",
       "mean   4.500000  5.333333  6.333333\n",
       "std    3.535534  2.516611  2.516611\n",
       "min    2.000000  3.000000  4.000000\n",
       "25%    3.250000  4.000000  5.000000\n",
       "50%    4.500000  5.000000  6.000000\n",
       "75%    5.750000  6.500000  7.500000\n",
       "max    7.000000  8.000000  9.000000"
      ]
     },
     "execution_count": 17,
     "metadata": {},
     "output_type": "execute_result"
    }
   ],
   "source": [
    "frame.describe()"
   ]
  },
  {
   "cell_type": "code",
   "execution_count": 26,
   "metadata": {},
   "outputs": [],
   "source": [
    "prices=pdweb.get_data_yahoo(['CVX','XOM','BP'], \n",
    "                               start=datetime.datetime(day=1, month=1, year=2012), \n",
    "                               end=datetime.datetime(2013, 1, 1))['Adj Close']"
   ]
  },
  {
   "cell_type": "code",
   "execution_count": 27,
   "metadata": {},
   "outputs": [
    {
     "data": {
      "text/html": [
       "<div>\n",
       "<style>\n",
       "    .dataframe thead tr:only-child th {\n",
       "        text-align: right;\n",
       "    }\n",
       "\n",
       "    .dataframe thead th {\n",
       "        text-align: left;\n",
       "    }\n",
       "\n",
       "    .dataframe tbody tr th {\n",
       "        vertical-align: top;\n",
       "    }\n",
       "</style>\n",
       "<table border=\"1\" class=\"dataframe\">\n",
       "  <thead>\n",
       "    <tr style=\"text-align: right;\">\n",
       "      <th>Symbols</th>\n",
       "      <th>BP</th>\n",
       "      <th>CVX</th>\n",
       "      <th>XOM</th>\n",
       "    </tr>\n",
       "    <tr>\n",
       "      <th>Date</th>\n",
       "      <th></th>\n",
       "      <th></th>\n",
       "      <th></th>\n",
       "    </tr>\n",
       "  </thead>\n",
       "  <tbody>\n",
       "    <tr>\n",
       "      <th>2012-01-03</th>\n",
       "      <td>28.126484</td>\n",
       "      <td>82.992043</td>\n",
       "      <td>66.235130</td>\n",
       "    </tr>\n",
       "    <tr>\n",
       "      <th>2012-01-04</th>\n",
       "      <td>28.515173</td>\n",
       "      <td>82.849144</td>\n",
       "      <td>66.250511</td>\n",
       "    </tr>\n",
       "    <tr>\n",
       "      <th>2012-01-05</th>\n",
       "      <td>28.196569</td>\n",
       "      <td>82.037071</td>\n",
       "      <td>66.050278</td>\n",
       "    </tr>\n",
       "    <tr>\n",
       "      <th>2012-01-06</th>\n",
       "      <td>28.088243</td>\n",
       "      <td>81.443008</td>\n",
       "      <td>65.557350</td>\n",
       "    </tr>\n",
       "    <tr>\n",
       "      <th>2012-01-09</th>\n",
       "      <td>28.081871</td>\n",
       "      <td>82.330307</td>\n",
       "      <td>65.850044</td>\n",
       "    </tr>\n",
       "  </tbody>\n",
       "</table>\n",
       "</div>"
      ],
      "text/plain": [
       "Symbols            BP        CVX        XOM\n",
       "Date                                       \n",
       "2012-01-03  28.126484  82.992043  66.235130\n",
       "2012-01-04  28.515173  82.849144  66.250511\n",
       "2012-01-05  28.196569  82.037071  66.050278\n",
       "2012-01-06  28.088243  81.443008  65.557350\n",
       "2012-01-09  28.081871  82.330307  65.850044"
      ]
     },
     "execution_count": 27,
     "metadata": {},
     "output_type": "execute_result"
    }
   ],
   "source": [
    "prices.head()"
   ]
  },
  {
   "cell_type": "code",
   "execution_count": 28,
   "metadata": {
    "collapsed": true
   },
   "outputs": [],
   "source": [
    "volumes=pdweb.get_data_yahoo(['CVX','XOM','BP'], \n",
    "                               start=datetime.datetime(day=1, month=1, year=2012), \n",
    "                               end=datetime.datetime(2013, 1, 1))['Volume']"
   ]
  },
  {
   "cell_type": "code",
   "execution_count": 29,
   "metadata": {},
   "outputs": [
    {
     "data": {
      "text/html": [
       "<div>\n",
       "<style>\n",
       "    .dataframe thead tr:only-child th {\n",
       "        text-align: right;\n",
       "    }\n",
       "\n",
       "    .dataframe thead th {\n",
       "        text-align: left;\n",
       "    }\n",
       "\n",
       "    .dataframe tbody tr th {\n",
       "        vertical-align: top;\n",
       "    }\n",
       "</style>\n",
       "<table border=\"1\" class=\"dataframe\">\n",
       "  <thead>\n",
       "    <tr style=\"text-align: right;\">\n",
       "      <th>Symbols</th>\n",
       "      <th>BP</th>\n",
       "      <th>CVX</th>\n",
       "      <th>XOM</th>\n",
       "    </tr>\n",
       "    <tr>\n",
       "      <th>Date</th>\n",
       "      <th></th>\n",
       "      <th></th>\n",
       "      <th></th>\n",
       "    </tr>\n",
       "  </thead>\n",
       "  <tbody>\n",
       "    <tr>\n",
       "      <th>2012-01-03</th>\n",
       "      <td>7315800.0</td>\n",
       "      <td>11518700.0</td>\n",
       "      <td>20906800.0</td>\n",
       "    </tr>\n",
       "    <tr>\n",
       "      <th>2012-01-04</th>\n",
       "      <td>6883900.0</td>\n",
       "      <td>8019100.0</td>\n",
       "      <td>16130900.0</td>\n",
       "    </tr>\n",
       "    <tr>\n",
       "      <th>2012-01-05</th>\n",
       "      <td>5570700.0</td>\n",
       "      <td>7184900.0</td>\n",
       "      <td>17452800.0</td>\n",
       "    </tr>\n",
       "    <tr>\n",
       "      <th>2012-01-06</th>\n",
       "      <td>5976000.0</td>\n",
       "      <td>8214900.0</td>\n",
       "      <td>15942100.0</td>\n",
       "    </tr>\n",
       "    <tr>\n",
       "      <th>2012-01-09</th>\n",
       "      <td>3641400.0</td>\n",
       "      <td>7118800.0</td>\n",
       "      <td>11664200.0</td>\n",
       "    </tr>\n",
       "  </tbody>\n",
       "</table>\n",
       "</div>"
      ],
      "text/plain": [
       "Symbols            BP         CVX         XOM\n",
       "Date                                         \n",
       "2012-01-03  7315800.0  11518700.0  20906800.0\n",
       "2012-01-04  6883900.0   8019100.0  16130900.0\n",
       "2012-01-05  5570700.0   7184900.0  17452800.0\n",
       "2012-01-06  5976000.0   8214900.0  15942100.0\n",
       "2012-01-09  3641400.0   7118800.0  11664200.0"
      ]
     },
     "execution_count": 29,
     "metadata": {},
     "output_type": "execute_result"
    }
   ],
   "source": [
    "volumes.head()"
   ]
  },
  {
   "cell_type": "code",
   "execution_count": 30,
   "metadata": {
    "collapsed": true
   },
   "outputs": [],
   "source": [
    "rets=prices.pct_change()"
   ]
  },
  {
   "cell_type": "code",
   "execution_count": 32,
   "metadata": {},
   "outputs": [
    {
     "data": {
      "text/html": [
       "<div>\n",
       "<style>\n",
       "    .dataframe thead tr:only-child th {\n",
       "        text-align: right;\n",
       "    }\n",
       "\n",
       "    .dataframe thead th {\n",
       "        text-align: left;\n",
       "    }\n",
       "\n",
       "    .dataframe tbody tr th {\n",
       "        vertical-align: top;\n",
       "    }\n",
       "</style>\n",
       "<table border=\"1\" class=\"dataframe\">\n",
       "  <thead>\n",
       "    <tr style=\"text-align: right;\">\n",
       "      <th>Symbols</th>\n",
       "      <th>BP</th>\n",
       "      <th>CVX</th>\n",
       "      <th>XOM</th>\n",
       "    </tr>\n",
       "    <tr>\n",
       "      <th>Date</th>\n",
       "      <th></th>\n",
       "      <th></th>\n",
       "      <th></th>\n",
       "    </tr>\n",
       "  </thead>\n",
       "  <tbody>\n",
       "    <tr>\n",
       "      <th>2012-01-03</th>\n",
       "      <td>NaN</td>\n",
       "      <td>NaN</td>\n",
       "      <td>NaN</td>\n",
       "    </tr>\n",
       "    <tr>\n",
       "      <th>2012-01-04</th>\n",
       "      <td>0.013819</td>\n",
       "      <td>-0.001722</td>\n",
       "      <td>0.000232</td>\n",
       "    </tr>\n",
       "    <tr>\n",
       "      <th>2012-01-05</th>\n",
       "      <td>-0.011173</td>\n",
       "      <td>-0.009802</td>\n",
       "      <td>-0.003022</td>\n",
       "    </tr>\n",
       "    <tr>\n",
       "      <th>2012-01-06</th>\n",
       "      <td>-0.003842</td>\n",
       "      <td>-0.007241</td>\n",
       "      <td>-0.007463</td>\n",
       "    </tr>\n",
       "    <tr>\n",
       "      <th>2012-01-09</th>\n",
       "      <td>-0.000227</td>\n",
       "      <td>0.010895</td>\n",
       "      <td>0.004465</td>\n",
       "    </tr>\n",
       "  </tbody>\n",
       "</table>\n",
       "</div>"
      ],
      "text/plain": [
       "Symbols           BP       CVX       XOM\n",
       "Date                                    \n",
       "2012-01-03       NaN       NaN       NaN\n",
       "2012-01-04  0.013819 -0.001722  0.000232\n",
       "2012-01-05 -0.011173 -0.009802 -0.003022\n",
       "2012-01-06 -0.003842 -0.007241 -0.007463\n",
       "2012-01-09 -0.000227  0.010895  0.004465"
      ]
     },
     "execution_count": 32,
     "metadata": {},
     "output_type": "execute_result"
    }
   ],
   "source": [
    "rets.head()"
   ]
  },
  {
   "cell_type": "code",
   "execution_count": 33,
   "metadata": {
    "collapsed": true
   },
   "outputs": [],
   "source": [
    "corrs=prices.corr()"
   ]
  },
  {
   "cell_type": "code",
   "execution_count": 36,
   "metadata": {},
   "outputs": [
    {
     "data": {
      "text/plain": [
       "<matplotlib.axes._subplots.AxesSubplot at 0x1c743ec26a0>"
      ]
     },
     "execution_count": 36,
     "metadata": {},
     "output_type": "execute_result"
    },
    {
     "data": {
      "image/png": "[encoded data removed]",
      "text/plain": [
       "<matplotlib.figure.Figure at 0x1c743d5f470>"
      ]
     },
     "metadata": {},
     "output_type": "display_data"
    }
   ],
   "source": [
    "%matplotlib inline\n",
    "corrs.plot()"
   ]
  },
  {
   "cell_type": "code",
   "execution_count": 45,
   "metadata": {},
   "outputs": [
    {
     "data": {
      "text/plain": [
       "<matplotlib.axes._subplots.AxesSubplot at 0x1c746405588>"
      ]
     },
     "execution_count": 45,
     "metadata": {},
     "output_type": "execute_result"
    },
    {
     "data": {
      "image/png": "[encoded data removed]",
      "text/plain": [
       "<matplotlib.figure.Figure at 0x1c74610d550>"
      ]
     },
     "metadata": {},
     "output_type": "display_data"
    }
   ],
   "source": [
    "sb.heatmap(corrs)"
   ]
  },
  {
   "cell_type": "code",
   "execution_count": 46,
   "metadata": {},
   "outputs": [
    {
     "data": {
      "text/plain": [
       "array([ 28.12648392,  28.51517296,  28.19656944,  28.08824348,\n",
       "        28.08187103,  28.28578377,  28.07550621,  28.16471672,\n",
       "        27.89071465,  28.19020081,  28.39410591,  28.48969078,\n",
       "        28.05001259,  28.43870926,  28.48332214,  28.61076546,\n",
       "        28.5279274 ,  27.84610939,  29.25434685,  29.02494621,\n",
       "        29.01220512,  29.67490005,  29.86606598,  29.6940136 ,\n",
       "        29.9297924 ,  29.80234909,  29.53471184,  30.18466759,\n",
       "        29.61117554,  29.59186554,  30.03614235,  30.66067696,\n",
       "        30.36449432,  30.17777634,  30.43532181,  30.25504303,\n",
       "        30.60917282,  30.80231857,  30.58341026,  30.87958908,\n",
       "        29.76571655,  29.96530342,  30.33230591,  30.06188583,\n",
       "        30.08120155,  30.47395515,  30.06831932,  30.15202332,\n",
       "        30.20997238,  29.75926781,  29.61762047,  29.1669178 ,\n",
       "        29.3536396 ,  28.90937042,  28.78059578,  28.55524063,\n",
       "        28.97375298,  29.19267082,  28.65826416,  27.89850807,\n",
       "        27.924263  ,  27.85343933,  27.23532677,  27.07436562,\n",
       "        27.66028786,  27.13875389,  27.37054062,  27.85987854,\n",
       "        27.81481361,  27.36411095,  27.03573227,  27.00998497,\n",
       "        26.98422623,  27.16450691,  27.87275887,  28.02727699,\n",
       "        27.95001602,  27.49287796,  27.27396393,  27.05504799,\n",
       "        26.37255478,  26.61078453,  26.02487183,  25.5817852 ,\n",
       "        25.92061615,  25.83591461,  25.32114792,  24.87806129,\n",
       "        24.43496895,  24.17432976,  24.57181168,  24.66303062,\n",
       "        24.70864105,  24.9106369 ,  24.99534035,  24.83244324,\n",
       "        24.12220764,  23.75730896,  23.95278549,  23.83550262,\n",
       "        23.98537064,  24.8845768 ,  25.07353973,  24.82593155,\n",
       "        24.94972992,  25.42540169,  25.30160332,  25.66649055,\n",
       "        26.20079994,  25.75120163,  26.22035027,  26.05745125,\n",
       "        25.00186157,  24.53923416,  24.63696289,  24.91716003,\n",
       "        25.10611916,  26.41583443,  26.51357079,  26.59176826,\n",
       "        26.29203033,  25.82287788,  25.84894371,  26.25294113,\n",
       "        26.2594471 ,  26.68298912,  26.94363785,  27.16516685,\n",
       "        27.19775772,  27.27594566,  27.07394791,  26.32461166,\n",
       "        25.94017029,  25.9857769 ,  26.65692139,  27.24988174,\n",
       "        25.99881172,  26.16170692,  26.03138924,  26.73512077,\n",
       "        27.02183151,  27.69297409,  27.83795357,  27.82477379,\n",
       "        27.94340324,  27.73910332,  27.79840469,  27.9697628 ,\n",
       "        28.17406845,  28.15430069,  28.13452721,  28.10157776,\n",
       "        27.84454536,  27.80500031,  27.81159592,  27.66001701,\n",
       "        27.62047195,  27.71932602,  27.43593979,  26.59894753,\n",
       "        27.13936996,  27.63365936,  27.70614815,  28.0554409 ,\n",
       "        28.0620327 ,  28.74743462,  28.90560532,  28.51676941,\n",
       "        28.25315094,  28.39813614,  28.52995682,  28.3388195 ,\n",
       "        28.51017952,  28.34542084,  27.92362213,  28.36519051,\n",
       "        27.91703987,  28.1477108 ,  27.77864456,  27.85113525,\n",
       "        27.69296646,  27.54138565,  27.75887299,  27.57434273,\n",
       "        27.38980293,  27.8774929 ,  28.69470787,  28.68811607,\n",
       "        28.4047184 ,  28.10816383,  27.28435898,  27.52820778,\n",
       "        27.50185013,  28.26633263,  28.35201073,  28.03567505,\n",
       "        27.93087769,  27.23677826,  27.25679779,  27.33021164,\n",
       "        27.0565815 ,  26.80296707,  26.89640236,  26.71620178,\n",
       "        27.51708412,  27.51040459,  27.76402664,  28.04433632,\n",
       "        27.59718513,  27.68393707,  27.5637989 ,  27.87080765,\n",
       "        27.49039078,  27.36359215,  27.57047462,  27.41029549,\n",
       "        27.35691452,  27.47704124,  27.77737045,  27.67727089,\n",
       "        27.62387276,  27.83744431,  28.10440445,  28.1844902 ,\n",
       "        28.11107826,  27.84412003,  27.81742287,  27.79071617])"
      ]
     },
     "execution_count": 46,
     "metadata": {},
     "output_type": "execute_result"
    }
   ],
   "source": [
    "prices.BP.unique()"
   ]
  },
  {
   "cell_type": "code",
   "execution_count": 47,
   "metadata": {},
   "outputs": [
    {
     "data": {
      "text/plain": [
       "10767100.0    2\n",
       "13905300.0    1\n",
       "11815500.0    1\n",
       "11980000.0    1\n",
       "8915800.0     1\n",
       "17452800.0    1\n",
       "13790000.0    1\n",
       "14035800.0    1\n",
       "15092500.0    1\n",
       "21747200.0    1\n",
       "10750700.0    1\n",
       "16853300.0    1\n",
       "17405200.0    1\n",
       "12756500.0    1\n",
       "10603100.0    1\n",
       "19993700.0    1\n",
       "10113100.0    1\n",
       "11954700.0    1\n",
       "12238400.0    1\n",
       "10602900.0    1\n",
       "11372900.0    1\n",
       "13199700.0    1\n",
       "9890100.0     1\n",
       "9349400.0     1\n",
       "15976700.0    1\n",
       "17715600.0    1\n",
       "15034500.0    1\n",
       "12961900.0    1\n",
       "12363800.0    1\n",
       "19810800.0    1\n",
       "             ..\n",
       "12399800.0    1\n",
       "19032000.0    1\n",
       "11931000.0    1\n",
       "18476800.0    1\n",
       "27225800.0    1\n",
       "84747800.0    1\n",
       "16838300.0    1\n",
       "15931100.0    1\n",
       "13642000.0    1\n",
       "17526100.0    1\n",
       "15627900.0    1\n",
       "13358700.0    1\n",
       "14767700.0    1\n",
       "12634600.0    1\n",
       "14530100.0    1\n",
       "11343400.0    1\n",
       "9762300.0     1\n",
       "24079300.0    1\n",
       "10950100.0    1\n",
       "11507100.0    1\n",
       "13948300.0    1\n",
       "11023700.0    1\n",
       "6385200.0     1\n",
       "14447800.0    1\n",
       "15332500.0    1\n",
       "33057000.0    1\n",
       "11269200.0    1\n",
       "13816900.0    1\n",
       "11222600.0    1\n",
       "8716300.0     1\n",
       "Name: XOM, Length: 249, dtype: int64"
      ]
     },
     "execution_count": 47,
     "metadata": {},
     "output_type": "execute_result"
    }
   ],
   "source": [
    "volumes.XOM.value_counts()"
   ]
  },
  {
   "cell_type": "code",
   "execution_count": null,
   "metadata": {
    "collapsed": true
   },
   "outputs": [],
   "source": []
  },
  {
   "cell_type": "code",
   "execution_count": null,
   "metadata": {
    "collapsed": true
   },
   "outputs": [],
   "source": []
  },
  {
   "cell_type": "code",
   "execution_count": null,
   "metadata": {
    "collapsed": true
   },
   "outputs": [],
   "source": []
  },
  {
   "cell_type": "code",
   "execution_count": null,
   "metadata": {
    "collapsed": true
   },
   "outputs": [],
   "source": []
  },
  {
   "cell_type": "code",
   "execution_count": null,
   "metadata": {
    "collapsed": true
   },
   "outputs": [],
   "source": []
  },
  {
   "cell_type": "code",
   "execution_count": null,
   "metadata": {
    "collapsed": true
   },
   "outputs": [],
   "source": []
  }
 ],
 "metadata": {
  "kernelspec": {
   "display_name": "Python 3",
   "language": "python",
   "name": "python3"
  },
  "language_info": {
   "codemirror_mode": {
    "name": "ipython",
    "version": 3
   },
   "file_extension": ".py",
   "mimetype": "text/x-python",
   "name": "python",
   "nbconvert_exporter": "python",
   "pygments_lexer": "ipython3",
   "version": "3.6.2"
  }
 },
 "nbformat": 4,
 "nbformat_minor": 2
}
