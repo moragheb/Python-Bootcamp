{
 "cells": [
  {
   "cell_type": "code",
   "execution_count": 1,
   "metadata": {},
   "outputs": [],
   "source": [
    "CardTypes={1:\"Clubs\",2:\"Diamonds\",3:\"Hearts\",4:\"Spades\"}\n",
    "CardValues={1:\"Ace\",2:\"2\",3:\"3\",4:\"4\",5:\"5\",6:\"6\",7:\"7\",8:\"8\",9:\"9\",10:\"10\",11:\"jack\",12:\"Dame\",13:\"king\"}\n",
    "minstake=50"
   ]
  },
  {
   "cell_type": "code",
   "execution_count": 2,
   "metadata": {
    "collapsed": true
   },
   "outputs": [],
   "source": [
    "from IPython.display import Markdown, display\n",
    "def printmd(string):\n",
    "    display(Markdown(string))\n"
   ]
  },
  {
   "cell_type": "code",
   "execution_count": 3,
   "metadata": {},
   "outputs": [],
   "source": [
    "class Card():\n",
    "    def __init__(self,Cardtype,Cardvalue):\n",
    "        self.Cardtype=Cardtype\n",
    "        self.Cardvalue=Cardvalue\n",
    "    def __str__(self):\n",
    "        return self.Cardvalue +\" of \"+ self.Cardtype  +\" \\n\""
   ]
  },
  {
   "cell_type": "code",
   "execution_count": 4,
   "metadata": {},
   "outputs": [],
   "source": [
    "class Deck():\n",
    "  \n",
    "    def __init__(self,deck=[]):\n",
    "       self.deck=[]\n",
    "       for typ in CardTypes:\n",
    "        for val in CardValues:\n",
    "            self.deck.append(Card(CardTypes[typ],CardValues[val]))\n",
    "    def __str__(self):\n",
    "        st=\"\"\n",
    "        for card in self.deck:\n",
    "            print(card)\n",
    "        return st\n",
    "    def drawcard(self):\n",
    "        import random\n",
    "        rand=random.randint(0, len(self.deck)-1)\n",
    "        card=self.deck[rand]\n",
    "        self.deck.pop(rand)\n",
    "        return card\n",
    "    def __len__(self):\n",
    "        return len(self.deck)\n",
    "        \n",
    "        "
   ]
  },
  {
   "cell_type": "code",
   "execution_count": 5,
   "metadata": {},
   "outputs": [],
   "source": [
    "class Hand:\n",
    "    def __init__(self):\n",
    "        self.cards=[]\n",
    "        self.cardscount=0\n",
    "        self.Aces=0\n",
    "    def addtohand(self,card):\n",
    "        self.cards.append(card)\n",
    "        if  card.Cardvalue==\"Ace\":\n",
    "            self.Aces+=1\n",
    "    def __str__(self):\n",
    "        st=\"\"\n",
    "        for card in self.cards:\n",
    "            st+=str(card)\n",
    "        return st + f\"Hand Value +{self.sumofhand()} \"\n",
    "    def __len__(self):\n",
    "        return len(self.cards)\n",
    "    def sumofhand(self):\n",
    "        self.cardscount=0\n",
    "        for card in self.cards:\n",
    "            if card.Cardvalue==\"jack\" or card.Cardvalue==\"Dame\" or  card.Cardvalue==\"king\" :\n",
    "                self.cardscount+=10\n",
    "            elif card.Cardvalue==\"Ace\":\n",
    "                if self.cardscount+11>21:\n",
    "                    self.cardscount+=1\n",
    "                else:\n",
    "                    self.cardscount+=11\n",
    "            else :\n",
    "                    self.cardscount+=int(card.Cardvalue)\n",
    "            while self.Aces >0 and  self.cardscount>21:\n",
    "                self.Aces-=1\n",
    "                self.cardscount-=11\n",
    "        return self.cardscount\n",
    "            \n",
    "            \n",
    "            "
   ]
  },
  {
   "cell_type": "code",
   "execution_count": 6,
   "metadata": {},
   "outputs": [],
   "source": [
    "class Player():\n",
    "    def __init__(self,Balance=0,Name=\"Joe Doe\",Currenthand=[],Betsize=0,WinsRecord=0):\n",
    "            if Name == \"Joe Doe\":\n",
    "                self.Name=input(\"what your name playa \")\n",
    "            else:\n",
    "                self.Name=Name\n",
    "            self.Currenthand=Hand()\n",
    "            self.Balance=Balance\n",
    "            self.Betsize=0\n",
    "            self.WinsRecord=0\n",
    "            if(self.Balance==0):\n",
    "                while True:\n",
    "                    try:\n",
    "                        self.Balance=int(input(\"what your buy in \"+ self.Name+\":\"))\n",
    "                    except :\n",
    "                        print(\"digits stupid\")\n",
    "                    else:\n",
    "                        break\n",
    "                \n",
    "                   \n",
    "    def __str__(self):\n",
    "        if self.Betsize==0:\n",
    "            return(self.Name +\" has balance of: \"+ str(self.Balance) + \" number of rounds won = \"+str(self.WinsRecord))\n",
    "        else:\n",
    "            return  (self.Name +\" has balance of: \"+ str(self.Balance) + \"  and has a current bet of : \"+ str(self.Betsize)+ \" number of rounds won = \"+str(self.WinsRecord))\n",
    "    def bet(self):\n",
    "        while True :\n",
    "            try:\n",
    "                amount=int(input(f\"enter your stake {self.Name} press -1 for quit : \"))\n",
    "            except:\n",
    "                print(\"digits stupid\")\n",
    "            else:\n",
    "                \n",
    "                break\n",
    "        if amount == -1 :\n",
    "            self.Betsize=-1\n",
    "            return True\n",
    "            \n",
    "        if self.Balance>=amount:\n",
    "            self.Balance-=amount\n",
    "            self.Betsize+=amount\n",
    "            return True\n",
    "        \n",
    "        else:\n",
    "            print(\"you dont have sufficient funds you only have \"+ str(self.Balance))\n",
    "            return False\n",
    "    def deposit(self):\n",
    "                   while True:\n",
    "                    try:\n",
    "                        self.Balance+=int(input(\"what your deposit \"+ self.Name))\n",
    "                    except :\n",
    "                        print(\"digits stupid\")\n",
    "                    else:\n",
    "                        break\n",
    "\n",
    "    def printhand(self):\n",
    "        printmd(f\"{self.Name} has a \\n\"+ str(self.Currenthand))\n",
    "        \n",
    "    def Bust(self):\n",
    "        if self.Currenthand.sumofhand()>21:\n",
    "            return 0\n",
    "        elif self.Currenthand.sumofhand()==21:\n",
    "            return 1\n",
    "        else:\n",
    "            return 2\n",
    "    def reset(self):\n",
    "        self.Currenthand=Hand()\n",
    "        self.Betsize=0\n",
    "        \n",
    "   \n",
    "        \n",
    "        \n",
    "            \n",
    "        "
   ]
  },
  {
   "cell_type": "code",
   "execution_count": 7,
   "metadata": {
    "collapsed": true
   },
   "outputs": [],
   "source": [
    "def BlackJack_newgame(minstake=50):\n",
    "    print(\"Welcome to the table player\")\n",
    "    global player1,dealer,carddeck,minStake\n",
    "    player1=Player()\n",
    "    dealer=Player(Name=\"sneaky dealer\",Balance=0)\n",
    "    carddeck=Deck()"
   ]
  },
  {
   "cell_type": "code",
   "execution_count": 11,
   "metadata": {},
   "outputs": [],
   "source": [
    "def BlackJack_newround():\n",
    "    global carddeck\n",
    "    quit=False\n",
    "    if len(carddeck)<=4 :\n",
    "        print(\"new Card  Deck  schuffled \")\n",
    "        carddeck=Deck()\n",
    "    player1.reset()\n",
    "    dealer.reset()\n",
    "    player1.Currenthand.addtohand(carddeck.drawcard())\n",
    "    player1.printhand()\n",
    "    dealer.Currenthand.addtohand(carddeck.drawcard())\n",
    "    dealer.printhand()\n",
    "    while player1.bet()==False:\n",
    "        choice=int(input(player1.Name +\" do you want to 1-deposit money or 2-quit \"))\n",
    "        if choice in [1,2]:\n",
    "            if choice ==1 :\n",
    "                player1.deposit()\n",
    "                pass\n",
    "            else:\n",
    "                return False\n",
    "    if player1.Betsize==-1:\n",
    "        printmd(dealer.Name+\"  wins \"+ player1.Name+\" is a loser\")\n",
    "        player1.Betsize=0\n",
    "        return False\n",
    "        \n",
    "    while player1.Bust() ==2:\n",
    "            if len(player1.Currenthand)==1:\n",
    "                   if len(carddeck)<1:\n",
    "                        carddeck=Deck()\n",
    "                   player1.Currenthand.addtohand(carddeck.drawcard())\n",
    "                   player1.printhand()\n",
    "                   if dealer.Currenthand.sumofhand()<17:\n",
    "                        if len(carddeck)<1:\n",
    "                            carddeck=Deck()\n",
    "                        dealer.Currenthand.addtohand(carddeck.drawcard())\n",
    "                   if player1.Bust()==0:\n",
    "                         printmd(dealer.Name+\"  wins \"+ player1.Name+\" Busted Balance is : \" +str(player1.Balance))\n",
    "                         dealer.WinsRecord+=1\n",
    "                         dealer.Balance+=player1.Betsize\n",
    "                         return True\n",
    "                   elif player1.Bust()==1:\n",
    "                         player1.WinsRecord+=1\n",
    "                         player1.Balance+=player1.Betsize*2\n",
    "                         dealer.Balance-=player1.Betsize\n",
    "                         printmd(player1.Name+\"  wins by BlackJack Balance is : \"+ str(player1.Balance))\n",
    "                         return True\n",
    "                   elif dealer.Bust() ==0:\n",
    "                         \n",
    "                         player1.WinsRecord+=1\n",
    "                         player1.Balance+=player1.Betsize*2\n",
    "                         dealer.Balance-=player1.Betsize\n",
    "                         printmd(Player1.Name+\"  wins \"+ dealer.Name+\" Busted Balnce is \"+ str(player1.Balance))\n",
    "                         return True\n",
    "                   elif dealer.Bust()==1:\n",
    "                         printmd(dealer.Name+\"  wins by BlackJack Balnce is\"+str(player1.Balance))\n",
    "                         dealer.WinsRecord+=1\n",
    "                         dealer.Balance+=player1.Betsize\n",
    "                         return True\n",
    "            else :\n",
    "                while True:\n",
    "                     hitorstay=input(player1.Name +\" press a for hit press b for stay or q for Quit : \")\n",
    "                     if(hitorstay in[\"a\",\"b\",\"q\"]):\n",
    "                            break\n",
    "                if hitorstay==\"a\":\n",
    "                    \n",
    "                     if dealer.Currenthand.sumofhand()<17:\n",
    "                         if len(carddeck)<1:\n",
    "                                carddeck=Deck()\n",
    "                         dealer.Currenthand.addtohand(carddeck.drawcard())\n",
    "                     while player1.bet()==False:\n",
    "                         choice=int(input(player1.Name +\" do you want to 1-deposit money or 2-quit \"))\n",
    "                         if choice in [1,2]:\n",
    "                              if choice ==1 :\n",
    "                                    player1.deposit()\n",
    "                                    pass\n",
    "                              else:\n",
    "\n",
    "                                    dealer.WinsRecord+=1\n",
    "                                    dealer.Balance+=player1.Betsize\n",
    "                                    printmd(dealer.Name+\"  wins \"+ player1.Name+\" is a loser  Balance is :\"+str(player1.Balance))\n",
    "                                    return False\n",
    "                     if player1.Betsize==-1:\n",
    "                          dealer.printhand()\n",
    "                          printmd(dealer.Name+\"  wins \"+ player1.Name+\" is a loser\")\n",
    "                          dealer.Balance+=player1.Betsize\n",
    "                          player1.Betsize=0\n",
    "                          return False\n",
    "                     player1.Currenthand.addtohand(carddeck.drawcard())\n",
    "                     player1.printhand()\n",
    "                     if dealer.Currenthand.sumofhand()<17:\n",
    "                          if len(carddeck)<1:\n",
    "                            carddeck=Deck()\n",
    "                          dealer.Currenthand.addtohand(carddeck.drawcard())\n",
    "                     if player1.Bust()==0:\n",
    "                             dealer.WinsRecord+=1\n",
    "                             dealer.Balance+=player1.Betsize\n",
    "                             player1.Betsize=0\n",
    "                             dealer.printhand()\n",
    "                             printmd(dealer.Name+\"  wins \"+ player1.Name+\" Busted Balance is : \" +str(player1.Balance))\n",
    "                            \n",
    "               \n",
    "                             return True\n",
    "                     elif player1.Bust()==1:\n",
    "                             dealer.printhand()\n",
    "                             player1.WinsRecord+=1\n",
    "                             player1.Balance+=player1.Betsize*2\n",
    "                             dealer.Balance-=player1.Betsize\n",
    "                             printmd(player1.Name+\"  wins by BlackJack Balance is : \"+ str(player1.Balance))\n",
    "                             player1.Betsize=0\n",
    "                             return True\n",
    "                     elif dealer.Bust() ==0:\n",
    "                             player1.WinsRecord+=1\n",
    "                             player1.Balance+=player1.Betsize*2\n",
    "                             dealer.Balance-=player1.Betsize\n",
    "                             dealer.printhand()\n",
    "                             printmd(player1.Name+\"  wins \"+ dealer.Name+\" Busted Balance is \"+ str(player1.Balance))\n",
    "                             return True\n",
    "                     elif dealer.Bust()==1:\n",
    "                             dealer.printhand()\n",
    "                             printmd(dealer.Name+\"  wins by BlackJack  \"+player1.Name+\"  Balance is \"+str(player1.Balance))\n",
    "                             dealer.WinsRecord+=1\n",
    "                                \n",
    "                             dealer.Balance+=player1.Betsize\n",
    "                             return True\n",
    "                     else:\n",
    "                        pass\n",
    "                if hitorstay==\"b\":\n",
    "                     while  dealer.Currenthand.sumofhand()<17:\n",
    "                         if len(carddeck)<1:\n",
    "                            carddeck=Deck()\n",
    "                         dealer.Currenthand.addtohand(carddeck.drawcard())\n",
    "                     if player1.Currenthand.sumofhand()>dealer.Currenthand.sumofhand() or dealer.Bust()==0:\n",
    "                            \n",
    "                             player1.WinsRecord+=1\n",
    "                             player1.Balance+=player1.Betsize*2\n",
    "                             dealer.Balance-=player1.Betsize\n",
    "                             dealer.printhand()\n",
    "                             printmd(player1.Name+\"  wins Balance is : \"+ str(player1.Balance))\n",
    "                             return True\n",
    "                     else:\n",
    "                             dealer.printhand()\n",
    "                             printmd(dealer.Name+\"  wins\" +player1.Name+\"  balance is \"+str(player1.Balance))\n",
    "                             dealer.Balance+=player1.Betsize\n",
    "                             dealer.WinsRecord+=1\n",
    "                             return True\n",
    "                elif hitorstay==\"q\":\n",
    "                     return False\n",
    "\n",
    "        \n",
    "\n",
    "                                     \n",
    "                                        \n",
    "             \n",
    "                    \n",
    "  \n",
    "                    \n",
    "                    \n",
    "                 \n",
    "        \n",
    "        \n",
    "     \n",
    "                \n",
    "        \n",
    "   \n",
    "        \n",
    "        \n",
    "        "
   ]
  },
  {
   "cell_type": "code",
   "execution_count": 12,
   "metadata": {},
   "outputs": [
    {
     "name": "stdout",
     "output_type": "stream",
     "text": [
      "Welcome to the table player\n",
      "what your name playa raquel pennigton\n",
      "what your buy in raquel pennigton:4000\n",
      "what your buy in sneaky dealer:0\n",
      "round 1 Begins min stake : 50 Cards Remaining in deck is :52 raquel pennigton has a record of  0 wins and balance of 4000 While the dealer has won 0 Wins\n"
     ]
    },
    {
     "data": {
      "text/markdown": [
       "raquel pennigton has a \n",
       "jack of Spades \n",
       "Hand Value +10 "
      ],
      "text/plain": [
       "<IPython.core.display.Markdown object>"
      ]
     },
     "metadata": {},
     "output_type": "display_data"
    },
    {
     "data": {
      "text/markdown": [
       "sneaky dealer has a \n",
       "5 of Diamonds \n",
       "Hand Value +5 "
      ],
      "text/plain": [
       "<IPython.core.display.Markdown object>"
      ]
     },
     "metadata": {},
     "output_type": "display_data"
    },
    {
     "name": "stdout",
     "output_type": "stream",
     "text": [
      "enter your stake raquel pennigton press -1 for quit : 900\n"
     ]
    },
    {
     "data": {
      "text/markdown": [
       "raquel pennigton has a \n",
       "jack of Spades \n",
       "3 of Diamonds \n",
       "Hand Value +13 "
      ],
      "text/plain": [
       "<IPython.core.display.Markdown object>"
      ]
     },
     "metadata": {},
     "output_type": "display_data"
    },
    {
     "name": "stdout",
     "output_type": "stream",
     "text": [
      "raquel pennigton press a for hit press b for stay or q for Quit : a\n",
      "enter your stake raquel pennigton press -1 for quit : 0\n"
     ]
    },
    {
     "data": {
      "text/markdown": [
       "raquel pennigton has a \n",
       "jack of Spades \n",
       "3 of Diamonds \n",
       "3 of Hearts \n",
       "Hand Value +16 "
      ],
      "text/plain": [
       "<IPython.core.display.Markdown object>"
      ]
     },
     "metadata": {},
     "output_type": "display_data"
    },
    {
     "name": "stdout",
     "output_type": "stream",
     "text": [
      "raquel pennigton press a for hit press b for stay or q for Quit : a\n",
      "enter your stake raquel pennigton press -1 for quit : 0\n"
     ]
    },
    {
     "data": {
      "text/markdown": [
       "raquel pennigton has a \n",
       "jack of Spades \n",
       "3 of Diamonds \n",
       "3 of Hearts \n",
       "2 of Spades \n",
       "Hand Value +18 "
      ],
      "text/plain": [
       "<IPython.core.display.Markdown object>"
      ]
     },
     "metadata": {},
     "output_type": "display_data"
    },
    {
     "name": "stdout",
     "output_type": "stream",
     "text": [
      "raquel pennigton press a for hit press b for stay or q for Quit : b\n"
     ]
    },
    {
     "data": {
      "text/markdown": [
       "sneaky dealer has a \n",
       "5 of Diamonds \n",
       "2 of Clubs \n",
       "king of Spades \n",
       "Hand Value +17 "
      ],
      "text/plain": [
       "<IPython.core.display.Markdown object>"
      ]
     },
     "metadata": {},
     "output_type": "display_data"
    },
    {
     "data": {
      "text/markdown": [
       "raquel pennigton  wins Balance is : 4900"
      ],
      "text/plain": [
       "<IPython.core.display.Markdown object>"
      ]
     },
     "metadata": {},
     "output_type": "display_data"
    },
    {
     "name": "stdout",
     "output_type": "stream",
     "text": [
      "round 2 Begins min stake : 50 Cards Remaining in deck is :45 raquel pennigton has a record of  1 wins and balance of 4900 While the dealer has won 0 Wins\n"
     ]
    },
    {
     "data": {
      "text/markdown": [
       "raquel pennigton has a \n",
       "jack of Hearts \n",
       "Hand Value +10 "
      ],
      "text/plain": [
       "<IPython.core.display.Markdown object>"
      ]
     },
     "metadata": {},
     "output_type": "display_data"
    },
    {
     "data": {
      "text/markdown": [
       "sneaky dealer has a \n",
       "10 of Clubs \n",
       "Hand Value +10 "
      ],
      "text/plain": [
       "<IPython.core.display.Markdown object>"
      ]
     },
     "metadata": {},
     "output_type": "display_data"
    },
    {
     "name": "stdout",
     "output_type": "stream",
     "text": [
      "enter your stake raquel pennigton press -1 for quit : -1\n"
     ]
    },
    {
     "data": {
      "text/markdown": [
       "sneaky dealer  wins raquel pennigton is a loser"
      ],
      "text/plain": [
       "<IPython.core.display.Markdown object>"
      ]
     },
     "metadata": {},
     "output_type": "display_data"
    },
    {
     "name": "stdout",
     "output_type": "stream",
     "text": [
      "raquel pennigton has balance of: 4900 number of rounds won = 1\n",
      "sneaky dealer has balance of: -900 number of rounds won = 0\n"
     ]
    }
   ],
   "source": [
    "carddeck=Deck()\n",
    "BlackJack_newgame()\n",
    "round=1\n",
    "while True :\n",
    "\n",
    "    print(f\"round {round} Begins min stake : {minstake} Cards Remaining in deck is :\" + str(len(carddeck))+ \" \"+ player1.Name+\n",
    "          \" has a record of  \"+ str(player1.WinsRecord) +\" wins and balance of \" + str(player1.Balance) +\" While the dealer has won \"\n",
    "         + str(dealer.WinsRecord) +\" Wins\")\n",
    "    round+=1\n",
    "    if BlackJack_newround()== False:\n",
    "        break\n",
    "print(player1)\n",
    "print(dealer)\n",
    "\n",
    "\n",
    "    "
   ]
  },
  {
   "cell_type": "code",
   "execution_count": null,
   "metadata": {
    "collapsed": true
   },
   "outputs": [],
   "source": []
  },
  {
   "cell_type": "code",
   "execution_count": null,
   "metadata": {
    "collapsed": true
   },
   "outputs": [],
   "source": []
  },
  {
   "cell_type": "code",
   "execution_count": null,
   "metadata": {
    "collapsed": true
   },
   "outputs": [],
   "source": []
  }
 ],
 "metadata": {
  "kernelspec": {
   "display_name": "Python 3",
   "language": "python",
   "name": "python3"
  },
  "language_info": {
   "codemirror_mode": {
    "name": "ipython",
    "version": 3
   },
   "file_extension": ".py",
   "mimetype": "text/x-python",
   "name": "python",
   "nbconvert_exporter": "python",
   "pygments_lexer": "ipython3",
   "version": "3.6.2"
  }
 },
 "nbformat": 4,
 "nbformat_minor": 2
}
