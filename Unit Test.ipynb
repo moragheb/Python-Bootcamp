{
 "cells": [
  {
   "cell_type": "code",
   "execution_count": 15,
   "metadata": {},
   "outputs": [
    {
     "name": "stdout",
     "output_type": "stream",
     "text": [
      "Overwriting Capfile.py\n"
     ]
    }
   ],
   "source": [
    "%%writefile Capfile.py\n",
    "def Cap(st):\n",
    "    return st.title()"
   ]
  },
  {
   "cell_type": "code",
   "execution_count": 16,
   "metadata": {},
   "outputs": [
    {
     "name": "stdout",
     "output_type": "stream",
     "text": [
      "Overwriting testcap.py\n"
     ]
    }
   ],
   "source": [
    "%%writefile testcap.py\n",
    "import unittest\n",
    "import Capfile\n",
    "class Cap_test_cases(unittest.TestCase):\n",
    "    def test_one_letter(self):\n",
    "        text=\"python\"\n",
    "        result=Capfile.Cap(text)\n",
    "        self.assertEqual(result,\"Python\")\n",
    "    def  test_sentence(self):\n",
    "        self.assertEqual(Capfile.Cap(\"python rocks\"),\"Python Rocks\")\n",
    "if __name__==\"__main__\":\n",
    "    unittest.main()\n",
    "        "
   ]
  },
  {
   "cell_type": "code",
   "execution_count": 17,
   "metadata": {},
   "outputs": [
    {
     "name": "stderr",
     "output_type": "stream",
     "text": [
      "..\n",
      "----------------------------------------------------------------------\n",
      "Ran 2 tests in 0.000s\n",
      "\n",
      "OK\n"
     ]
    }
   ],
   "source": [
    "!  python testcap.py"
   ]
  },
  {
   "cell_type": "code",
   "execution_count": null,
   "metadata": {
    "collapsed": true
   },
   "outputs": [],
   "source": []
  },
  {
   "cell_type": "code",
   "execution_count": null,
   "metadata": {
    "collapsed": true
   },
   "outputs": [],
   "source": []
  }
 ],
 "metadata": {
  "kernelspec": {
   "display_name": "Python 3",
   "language": "python",
   "name": "python3"
  },
  "language_info": {
   "codemirror_mode": {
    "name": "ipython",
    "version": 3
   },
   "file_extension": ".py",
   "mimetype": "text/x-python",
   "name": "python",
   "nbconvert_exporter": "python",
   "pygments_lexer": "ipython3",
   "version": "3.6.2"
  }
 },
 "nbformat": 4,
 "nbformat_minor": 2
}
