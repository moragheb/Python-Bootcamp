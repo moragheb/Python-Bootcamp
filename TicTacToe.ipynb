{
 "cells": [
  {
   "cell_type": "code",
   "execution_count": 28,
   "metadata": {
    "collapsed": true
   },
   "outputs": [],
   "source": [
    "\n",
    "def Printboard(player=\"0\",pos=0):\n",
    "    patterns={f\"1st row\":f\"{firstrow[0]}|{firstrow[1]}|{firstrow[2]}\",\"2nd row\":f\"{secondrow[0]}|{secondrow[1]}|{secondrow[2]}\",\"3rd row\":f\"{thirdrow[0]}|{thirdrow[1]}|{thirdrow[2]}\",\"seperator\":\"_____\"}\n",
    "    if(player==\"0\" or pos==0):\n",
    "        \n",
    "       \n",
    "        for key in CurrentBoard:\n",
    "            print(patterns[key])\n",
    "            \n",
    "    else:\n",
    "            if pos<=3:\n",
    "                firstrow[pos-1]=player\n",
    "            elif pos<=6:\n",
    "                secondrow[pos-4]=player\n",
    "            else:\n",
    "                thirdrow[pos-7]=player\n",
    "            patterns={f\"1st row\":f\"{firstrow[0]}|{firstrow[1]}|{firstrow[2]}\",\"2nd row\":f\"{secondrow[0]}|{secondrow[1]}|{secondrow[2]}\",\"3rd row\":f\"{thirdrow[0]}|{thirdrow[1]}|{thirdrow[2]}\",\"seperator\":\"_____\"}\n",
    "            for key in CurrentBoard:\n",
    "                print(patterns[key])"
   ]
  },
  {
   "cell_type": "code",
   "execution_count": 29,
   "metadata": {
    "collapsed": true
   },
   "outputs": [],
   "source": [
    "def reset():\n",
    "    global CurrentBoard,firstrow,secondrow,thirdrow,Victory,playturn\n",
    "    global playturn\n",
    "    CurrentBoard=[\"1st row\",\"seperator\",\"2nd row\",\"seperator\",\"3rd row\"]\n",
    "    firstrow=[1,2,3]\n",
    "    secondrow=[4,5,6]\n",
    "    thirdrow=[7,8,9]\n",
    "    Victory=False\n",
    "    playturn=0\n",
    "    "
   ]
  },
  {
   "cell_type": "code",
   "execution_count": 30,
   "metadata": {},
   "outputs": [],
   "source": [
    "def CheckVictory():\n",
    "    if (firstrow[0]==firstrow[1]==firstrow[2]) or (secondrow[0]==secondrow[1]==secondrow[2]) or (thirdrow[0]==thirdrow[1]==thirdrow[2]):\n",
    "     \n",
    "        return True\n",
    "    if (firstrow[0]==secondrow[0]==thirdrow[0]) or (firstrow[1]==secondrow[1]==thirdrow[1]) or (firstrow[2]==secondrow[2]==thirdrow[2]):\n",
    "         \n",
    "         return True\n",
    "    if (firstrow[0]==secondrow[1]==thirdrow[2]) or (firstrow[2]==secondrow[1]==thirdrow[0]):\n",
    "         \n",
    "         return True\n",
    "    return False\n",
    "    "
   ]
  },
  {
   "cell_type": "code",
   "execution_count": 35,
   "metadata": {},
   "outputs": [],
   "source": [
    "def newgame():  \n",
    "    availablepos=[1,2,3,4,5,6,7,8,9]\n",
    "    reset()\n",
    "    CurrentBoard=[\"1st row\",\"seperator\",\"2nd row\",\"seperator\",\"3rd row\"]\n",
    "    firstrow=[1,2,3]\n",
    "    secondrow=[4,5,6]\n",
    "    thirdrow=[7,8,9]\n",
    "    Victory=False\n",
    "    playturn=0\n",
    "    Printboard(0,0)\n",
    "    while  not Victory :\n",
    "        if len(availablepos)==0:\n",
    "            print(\"dead lock\")\n",
    "            newgame()\n",
    "            break\n",
    "        if playturn==0:\n",
    "           pos= int(input(f\"player 1: please select a position between 1 and 9 to play your X     \"))\n",
    "           if(pos not in  range(1,10)):\n",
    "                     pass\n",
    "           if pos in availablepos:\n",
    "                availablepos.remove(pos)\n",
    "                Printboard(\"X\",pos)\n",
    "                playturn=1\n",
    "                if CheckVictory():\n",
    "                    print (\" player 1 you are winner\")\n",
    "                    victory = True\n",
    "                    break\n",
    "                pass\n",
    "           else:\n",
    "                 print(\"Already Taken\")\n",
    "                 pass\n",
    "\n",
    "\n",
    "        elif playturn==1:\n",
    "            pos= int(input(f\"player 2: please select a position between 1 and 9 to play your Y     \"))\n",
    "            if(pos not in  range(1,10)):\n",
    "                     pass\n",
    "            if pos in availablepos:\n",
    "                availablepos.remove(pos)\n",
    "                Printboard(\"Y\",pos)\n",
    "                playturn=0\n",
    "                if CheckVictory():\n",
    "                    print  (\" player 2 you are winner\")\n",
    "                    victory = True\n",
    "                    break\n",
    "\n",
    "                pass\n",
    "            else:\n",
    "                 print(\"Already Taken\")\n",
    "                 pass\n",
    "            pass\n",
    "\n"
   ]
  },
  {
   "cell_type": "code",
   "execution_count": null,
   "metadata": {
    "collapsed": true
   },
   "outputs": [],
   "source": []
  },
  {
   "cell_type": "code",
   "execution_count": 36,
   "metadata": {},
   "outputs": [
    {
     "name": "stdout",
     "output_type": "stream",
     "text": [
      "1|2|3\n",
      "_____\n",
      "4|5|6\n",
      "_____\n",
      "7|8|9\n",
      "player 1: please select a position between 1 and 9 to play your X     1\n",
      "X|2|3\n",
      "_____\n",
      "4|5|6\n",
      "_____\n",
      "7|8|9\n",
      "player 2: please select a position between 1 and 9 to play your Y     5\n",
      "X|2|3\n",
      "_____\n",
      "4|Y|6\n",
      "_____\n",
      "7|8|9\n",
      "player 1: please select a position between 1 and 9 to play your X     2\n",
      "X|X|3\n",
      "_____\n",
      "4|Y|6\n",
      "_____\n",
      "7|8|9\n",
      "player 2: please select a position between 1 and 9 to play your Y     3\n",
      "X|X|Y\n",
      "_____\n",
      "4|Y|6\n",
      "_____\n",
      "7|8|9\n",
      "player 1: please select a position between 1 and 9 to play your X     6\n",
      "X|X|Y\n",
      "_____\n",
      "4|Y|X\n",
      "_____\n",
      "7|8|9\n",
      "player 2: please select a position between 1 and 9 to play your Y     4\n",
      "X|X|Y\n",
      "_____\n",
      "Y|Y|X\n",
      "_____\n",
      "7|8|9\n",
      "player 1: please select a position between 1 and 9 to play your X     7\n",
      "X|X|Y\n",
      "_____\n",
      "Y|Y|X\n",
      "_____\n",
      "X|8|9\n",
      "player 2: please select a position between 1 and 9 to play your Y     8\n",
      "X|X|Y\n",
      "_____\n",
      "Y|Y|X\n",
      "_____\n",
      "X|Y|9\n",
      "player 1: please select a position between 1 and 9 to play your X     9\n",
      "X|X|Y\n",
      "_____\n",
      "Y|Y|X\n",
      "_____\n",
      "X|Y|X\n",
      "dead lock\n",
      "1|2|3\n",
      "_____\n",
      "4|5|6\n",
      "_____\n",
      "7|8|9\n",
      "player 1: please select a position between 1 and 9 to play your X     1\n",
      "X|2|3\n",
      "_____\n",
      "4|5|6\n",
      "_____\n",
      "7|8|9\n",
      "player 2: please select a position between 1 and 9 to play your Y     4\n",
      "X|2|3\n",
      "_____\n",
      "Y|5|6\n",
      "_____\n",
      "7|8|9\n",
      "player 1: please select a position between 1 and 9 to play your X     2\n",
      "X|X|3\n",
      "_____\n",
      "Y|5|6\n",
      "_____\n",
      "7|8|9\n",
      "player 2: please select a position between 1 and 9 to play your Y     5\n",
      "X|X|3\n",
      "_____\n",
      "Y|Y|6\n",
      "_____\n",
      "7|8|9\n",
      "player 1: please select a position between 1 and 9 to play your X     3\n",
      "X|X|X\n",
      "_____\n",
      "Y|Y|6\n",
      "_____\n",
      "7|8|9\n",
      " player 1 you are winner\n"
     ]
    }
   ],
   "source": [
    "\n",
    "newgame()"
   ]
  },
  {
   "cell_type": "code",
   "execution_count": null,
   "metadata": {
    "collapsed": true
   },
   "outputs": [],
   "source": []
  },
  {
   "cell_type": "code",
   "execution_count": null,
   "metadata": {
    "collapsed": true
   },
   "outputs": [],
   "source": []
  },
  {
   "cell_type": "code",
   "execution_count": null,
   "metadata": {
    "collapsed": true
   },
   "outputs": [],
   "source": []
  },
  {
   "cell_type": "code",
   "execution_count": null,
   "metadata": {
    "collapsed": true
   },
   "outputs": [],
   "source": []
  },
  {
   "cell_type": "code",
   "execution_count": null,
   "metadata": {
    "collapsed": true
   },
   "outputs": [],
   "source": []
  },
  {
   "cell_type": "code",
   "execution_count": null,
   "metadata": {
    "collapsed": true
   },
   "outputs": [],
   "source": []
  },
  {
   "cell_type": "code",
   "execution_count": null,
   "metadata": {
    "collapsed": true
   },
   "outputs": [],
   "source": []
  },
  {
   "cell_type": "code",
   "execution_count": null,
   "metadata": {
    "collapsed": true
   },
   "outputs": [],
   "source": []
  },
  {
   "cell_type": "code",
   "execution_count": null,
   "metadata": {
    "collapsed": true
   },
   "outputs": [],
   "source": []
  },
  {
   "cell_type": "code",
   "execution_count": null,
   "metadata": {
    "collapsed": true
   },
   "outputs": [],
   "source": []
  },
  {
   "cell_type": "code",
   "execution_count": null,
   "metadata": {
    "collapsed": true
   },
   "outputs": [],
   "source": []
  },
  {
   "cell_type": "code",
   "execution_count": null,
   "metadata": {
    "collapsed": true
   },
   "outputs": [],
   "source": []
  },
  {
   "cell_type": "code",
   "execution_count": null,
   "metadata": {
    "collapsed": true
   },
   "outputs": [],
   "source": []
  }
 ],
 "metadata": {
  "kernelspec": {
   "display_name": "Python 3",
   "language": "python",
   "name": "python3"
  },
  "language_info": {
   "codemirror_mode": {
    "name": "ipython",
    "version": 3
   },
   "file_extension": ".py",
   "mimetype": "text/x-python",
   "name": "python",
   "nbconvert_exporter": "python",
   "pygments_lexer": "ipython3",
   "version": "3.6.2"
  }
 },
 "nbformat": 4,
 "nbformat_minor": 2
}
