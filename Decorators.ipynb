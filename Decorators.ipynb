{
 "cells": [
  {
   "cell_type": "code",
   "execution_count": 40,
   "metadata": {},
   "outputs": [],
   "source": [
    "def my_decorator(func):\n",
    "    def wrap_func():\n",
    "        print(\"do stuff before func\")\n",
    "        func()\n",
    "        print(\"do stuff after func\")\n",
    "    return wrap_func"
   ]
  },
  {
   "cell_type": "code",
   "execution_count": 41,
   "metadata": {},
   "outputs": [],
   "source": [
    "@my_decorator\n",
    "def myfunc():\n",
    "    print(\"hello world\")"
   ]
  },
  {
   "cell_type": "code",
   "execution_count": 43,
   "metadata": {},
   "outputs": [
    {
     "name": "stdout",
     "output_type": "stream",
     "text": [
      "do stuff before func\n",
      "hello world\n",
      "do stuff after func\n"
     ]
    }
   ],
   "source": [
    "myfunc()"
   ]
  },
  {
   "cell_type": "code",
   "execution_count": null,
   "metadata": {
    "collapsed": true
   },
   "outputs": [],
   "source": []
  },
  {
   "cell_type": "code",
   "execution_count": null,
   "metadata": {
    "collapsed": true
   },
   "outputs": [],
   "source": []
  },
  {
   "cell_type": "code",
   "execution_count": null,
   "metadata": {
    "collapsed": true
   },
   "outputs": [],
   "source": []
  },
  {
   "cell_type": "code",
   "execution_count": null,
   "metadata": {
    "collapsed": true
   },
   "outputs": [],
   "source": []
  },
  {
   "cell_type": "code",
   "execution_count": null,
   "metadata": {
    "collapsed": true
   },
   "outputs": [],
   "source": []
  },
  {
   "cell_type": "code",
   "execution_count": 18,
   "metadata": {},
   "outputs": [],
   "source": [
    "def func():\n",
    "    x=5\n",
    "    print(\"new func\")\n",
    "    print(locals().keys())"
   ]
  },
  {
   "cell_type": "code",
   "execution_count": 19,
   "metadata": {},
   "outputs": [
    {
     "name": "stdout",
     "output_type": "stream",
     "text": [
      "do stuff before func\n",
      "new func\n",
      "dict_keys(['x'])\n",
      "do stuff after func\n"
     ]
    },
    {
     "data": {
      "text/plain": [
       "<function __main__.my_decorator>"
      ]
     },
     "execution_count": 19,
     "metadata": {},
     "output_type": "execute_result"
    }
   ],
   "source": [
    "my_decorator(func)"
   ]
  },
  {
   "cell_type": "code",
   "execution_count": 17,
   "metadata": {},
   "outputs": [
    {
     "data": {
      "text/plain": [
       "dict_keys(['__name__', '__doc__', '__package__', '__loader__', '__spec__', '__builtin__', '__builtins__', '_ih', '_oh', '_dh', 'In', 'Out', 'get_ipython', 'exit', 'quit', '_', '__', '___', '_i', '_ii', '_iii', '_i1', 'my_decorator', '_i2', '_i3', 'myfunc', '_i4', '_i5', '_i6', 'func', '_i7', '_7', '_i8', '_8', '_i9', '_i10', '_i11', '_11', '_i12', '_i13', '_13', '_i14', '_14', '_i15', '_15', '_i16', '_16', '_i17'])"
      ]
     },
     "execution_count": 17,
     "metadata": {},
     "output_type": "execute_result"
    }
   ],
   "source": [
    "globals().keys()"
   ]
  },
  {
   "cell_type": "code",
   "execution_count": null,
   "metadata": {
    "collapsed": true
   },
   "outputs": [],
   "source": []
  },
  {
   "cell_type": "code",
   "execution_count": null,
   "metadata": {
    "collapsed": true
   },
   "outputs": [],
   "source": []
  },
  {
   "cell_type": "code",
   "execution_count": 9,
   "metadata": {},
   "outputs": [
    {
     "name": "stdout",
     "output_type": "stream",
     "text": [
      "{'__name__': '__main__', '__doc__': 'Automatically created module for IPython interactive environment', '__package__': None, '__loader__': None, '__spec__': None, '__builtin__': <module 'builtins' (built-in)>, '__builtins__': <module 'builtins' (built-in)>, '_ih': ['', 'def my_decorator(func):\\n    print(\"do stuff before func\")\\n    func()\\n    print(\"do stuff after func\")\\n    return my_decorator', '@my_decorator\\ndef myfunc:\\n    print(\"hello world\")', '@my_decorator\\ndef myfunc():\\n    print(\"hello world\")', 'my_decorator(func)', 'def func:\\n    print(\"new func\")', 'def func():\\n    print(\"new func\")', 'my_decorator(func)', 'locals', 'print(locals())'], '_oh': {7: <function my_decorator at 0x0000014F02EDF840>, 8: <built-in function locals>}, '_dh': ['C:\\\\Users\\\\Mo Ragheb\\\\Downloads\\\\-Python-3-Bootcamp-master\\\\Labs'], 'In': ['', 'def my_decorator(func):\\n    print(\"do stuff before func\")\\n    func()\\n    print(\"do stuff after func\")\\n    return my_decorator', '@my_decorator\\ndef myfunc:\\n    print(\"hello world\")', '@my_decorator\\ndef myfunc():\\n    print(\"hello world\")', 'my_decorator(func)', 'def func:\\n    print(\"new func\")', 'def func():\\n    print(\"new func\")', 'my_decorator(func)', 'locals', 'print(locals())'], 'Out': {7: <function my_decorator at 0x0000014F02EDF840>, 8: <built-in function locals>}, 'get_ipython': <bound method InteractiveShell.get_ipython of <ipykernel.zmqshell.ZMQInteractiveShell object at 0x0000014F01DAD4A8>>, 'exit': <IPython.core.autocall.ZMQExitAutocall object at 0x0000014F01E03BE0>, 'quit': <IPython.core.autocall.ZMQExitAutocall object at 0x0000014F01E03BE0>, '_': <built-in function locals>, '__': <function my_decorator at 0x0000014F02EDF840>, '___': '', '_i': 'locals', '_ii': 'my_decorator(func)', '_iii': 'def func():\\n    print(\"new func\")', '_i1': 'def my_decorator(func):\\n    print(\"do stuff before func\")\\n    func()\\n    print(\"do stuff after func\")\\n    return my_decorator', 'my_decorator': <function my_decorator at 0x0000014F02EDF840>, '_i2': '@my_decorator\\ndef myfunc:\\n    print(\"hello world\")', '_i3': '@my_decorator\\ndef myfunc():\\n    print(\"hello world\")', 'myfunc': <function my_decorator at 0x0000014F02EDF840>, '_i4': 'my_decorator(func)', '_i5': 'def func:\\n    print(\"new func\")', '_i6': 'def func():\\n    print(\"new func\")', 'func': <function func at 0x0000014F0301B048>, '_i7': 'my_decorator(func)', '_7': <function my_decorator at 0x0000014F02EDF840>, '_i8': 'locals', '_8': <built-in function locals>, '_i9': 'print(locals())'}\n"
     ]
    }
   ],
   "source": [
    "print(locals())"
   ]
  },
  {
   "cell_type": "code",
   "execution_count": 30,
   "metadata": {
    "collapsed": true
   },
   "outputs": [],
   "source": [
    "def new_decorator(func):\n",
    "\n",
    "    def wrap_func():\n",
    "        print(\"Code would be here, before executing the func\")\n",
    "\n",
    "        func()\n",
    "\n",
    "        print(\"Code here will execute after the func()\")\n",
    "\n",
    "    return wrap_func"
   ]
  },
  {
   "cell_type": "code",
   "execution_count": 31,
   "metadata": {
    "collapsed": true
   },
   "outputs": [],
   "source": [
    "@new_decorator\n",
    "def func_needs_decorator():\n",
    "    print(\"This function is in need of a Decorator\")"
   ]
  },
  {
   "cell_type": "code",
   "execution_count": 32,
   "metadata": {},
   "outputs": [
    {
     "name": "stdout",
     "output_type": "stream",
     "text": [
      "Code would be here, before executing the func\n",
      "This function is in need of a Decorator\n",
      "Code here will execute after the func()\n"
     ]
    }
   ],
   "source": [
    "func_needs_decorator()"
   ]
  },
  {
   "cell_type": "code",
   "execution_count": null,
   "metadata": {
    "collapsed": true
   },
   "outputs": [],
   "source": []
  }
 ],
 "metadata": {
  "kernelspec": {
   "display_name": "Python 3",
   "language": "python",
   "name": "python3"
  },
  "language_info": {
   "codemirror_mode": {
    "name": "ipython",
    "version": 3
   },
   "file_extension": ".py",
   "mimetype": "text/x-python",
   "name": "python",
   "nbconvert_exporter": "python",
   "pygments_lexer": "ipython3",
   "version": "3.6.2"
  }
 },
 "nbformat": 4,
 "nbformat_minor": 2
}
