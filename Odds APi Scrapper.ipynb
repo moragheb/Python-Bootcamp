{
 "cells": [
  {
   "cell_type": "code",
   "execution_count": 1,
   "metadata": {},
   "outputs": [
    {
     "name": "stdout",
     "output_type": "stream",
     "text": [
      "C:\\Users\\Mo Ragheb\\Downloads\\-Python-3-Bootcamp-master\\Labs\\Scrapper\n"
     ]
    },
    {
     "name": "stderr",
     "output_type": "stream",
     "text": [
      "C:\\Program Files (x86)\\Microsoft Visual Studio\\Shared\\Anaconda3_64\\lib\\site-packages\\fuzzywuzzy\\fuzz.py:11: UserWarning: Using slow pure-python SequenceMatcher. Install python-Levenshtein to remove this warning\n",
      "  warnings.warn('Using slow pure-python SequenceMatcher. Install python-Levenshtein to remove this warning')\n"
     ]
    }
   ],
   "source": [
    "%cd C:\\Users\\Mo Ragheb\\Downloads\\-Python-3-Bootcamp-master\\Labs\\Scrapper\n",
    "\n",
    "import json\n",
    "import requests\n",
    "from dateutil import parser\n",
    "from datetime import  datetime,timedelta\n",
    "import time\n",
    "from ipywidgets import interact,interactive,fixed,widgets\n",
    "from IPython.display import display,clear_output\n",
    "from simplejson.decoder import JSONDecodeError\n",
    "import logging\n",
    "import sys\n",
    "from openpyxl import load_workbook\n",
    "from openpyxl import Workbook\n",
    "from openpyxl.styles import PatternFill\n",
    "import pinnacle.enums as enums\n",
    "from IPython.core.debugger import set_trace\n",
    "from collections import  OrderedDict\n",
    "from threading import Thread\n",
    "import threading\n",
    "from queue import Queue\n",
    "from Classes.Comp import Comp\n",
    "from HelperMethods import Methods\n",
    "import os.path\n",
    "import re\n",
    "import numpy as np\n",
    "from fuzzywuzzy import fuzz\n",
    "from enum import Enum\n"
   ]
  },
  {
   "cell_type": "code",
   "execution_count": 2,
   "metadata": {
    "collapsed": true
   },
   "outputs": [],
   "source": [
    "#testing key\n",
    "Api_key=\"c8b3197a8547e7235954cfb88f1fa258\"\n",
    "\n",
    "Oddsconfigfile=r\"C:\\Users\\Mo Ragheb\\Downloads\\Data minings\\Stats\\Oddssports.xlsx\"\n",
    "OddsLeagues= OrderedDict()\n",
    "Oddssports=OrderedDict()\n",
    "Logfilelocation=\"C:\\\\Users\\Mo Ragheb\\\\Downloads\\Data minings\\\\Scrapper logs\\\\Odds\"+str (time.strftime(\"%d-%m-%Y\"+\"test.txt\"))\n",
    "#Logfilelocation=\"test.txt\"\n",
    "for handler in logging.root.handlers[:]:\n",
    "    logging.root.removeHandler(handler)\n",
    "logging.basicConfig(level = logging.DEBUG, format = '%(asctime)s  %(levelname)-10s %(processName)s %(funcName)s   %(message)s', filename = Logfilelocation,filemode=\"w\" )\n",
    "Eventsqueue=Queue()\n",
    "Comp.buildallleagues()\n",
    "DataMiningspath=\"C:\\\\Users\\\\Mo Ragheb\\\\Downloads\\Data minings\\\\\"\n",
    "Trustedbookamers= OrderedDict(\n",
    "{\n",
    "  'ladbrokes':0,\n",
    " 'betfair':1,\n",
    " 'paddypower':2,\n",
    " 'williamhill':3,\n",
    " 'betvictor':4,\n",
    " 'skybet':5,\n",
    " 'mybookieag':6,\n",
    " 'bovada':7,\n",
    " 'bookmaker':8,\n",
    " 'betonlineag':9       \n",
    "}\n",
    ")\n",
    "\n"
   ]
  },
  {
   "cell_type": "code",
   "execution_count": 3,
   "metadata": {
    "collapsed": true
   },
   "outputs": [],
   "source": [
    "class OddEvent:\n",
    "    def __init__(self,sportid=\"\",leagueid=\"\",hometeam=\"\",awayteam=\"\",startdate=datetime.now().date(),bookmakers=[]):\n",
    "        self.sportid=\"\"\n",
    "        self.leagueid=leagueid\n",
    "        self.hometeam=hometeam\n",
    "        self.awayteam=awayteam\n",
    "        self.startdate=startdate\n",
    "        self.bookmakers=[]\n",
    "    def __str__(self):\n",
    "       event= f\"start time {str(self.startdate)} Sport {self.sportid}   League is {self.leagueid} home team is {self.hometeam} away team is {self.awayteam}\"\n",
    "       for bookmaker in  self.bookmakers:\n",
    "            event+=\"\\n\\t\"\n",
    "            event+=str(bookmaker)\n",
    "       return event"
   ]
  },
  {
   "cell_type": "code",
   "execution_count": 4,
   "metadata": {
    "collapsed": true
   },
   "outputs": [],
   "source": [
    "class Bookmaker:\n",
    "    global bookmaers\n",
    "    def __init__(self,bookmakerid=\"\",bookmakername=\"\",drawodds=\"\",homemlodds=\"\",awaymlodds=\"\",spread=\"\",homespread=\"\",awayspread=\"\",total=\"\",totalover=\"\",totalunder=\"\"):\n",
    "        self.bookmakerid=bookmakerid\n",
    "        self.bookmakername=bookmakername\n",
    "        self.homemlodds=homemlodds\n",
    "        self.awaymlodds=awaymlodds\n",
    "        self.drawodds=drawodds\n",
    "        self.spread=spread\n",
    "        self.homespread=homespread\n",
    "        self.awayspread=awayspread\n",
    "        self.total=total\n",
    "        self.totalover=totalover\n",
    "        self.totalunder=totalunder\n",
    "        \n",
    "    def __str__(self):\n",
    "           return(f\"book maker name is {self.bookmakername} home money odds are={self.homemlodds}  away moneyline odds= {self.awaymlodds} draw money line ={self.drawodds} Total is {self.total} over odds is ={self.totalover}  under odds is = {self.totalunder}  spread is ={self.spread} home spread ods is ={self.homespread}  away spread odds={self.awayspread}\")"
   ]
  },
  {
   "cell_type": "code",
   "execution_count": 5,
   "metadata": {
    "collapsed": true
   },
   "outputs": [],
   "source": [
    "class BookieCoutry(Enum):\n",
    "    uk=\"uk\"\n",
    "    us=\"us\""
   ]
  },
  {
   "cell_type": "code",
   "execution_count": 6,
   "metadata": {
    "collapsed": true
   },
   "outputs": [],
   "source": [
    "class OddsTypes(Enum):\n",
    "    MoneyLine=\"h2h\"\n",
    "    Totals=\"totals\"\n",
    "    Spreads=\"spreads\""
   ]
  },
  {
   "cell_type": "code",
   "execution_count": 7,
   "metadata": {
    "collapsed": true
   },
   "outputs": [],
   "source": [
    "class threadsafe_iter:\n",
    "    \"\"\"Takes an iterator/generator and makes it thread-safe by\n",
    "    serializing call to the `next` method of given iterator/generator.\n",
    "    \"\"\"\n",
    "    def __init__(self, it):\n",
    "        self.it = it\n",
    "        self.lock = threading.Lock()\n",
    "\n",
    "    def __iter__(self):\n",
    "        return self\n",
    "\n",
    "    def __next__(self):\n",
    "        with self.lock:\n",
    "                return self.it.__next__()\n",
    "    def __str__():\n",
    "        return str(self)\n",
    "\n"
   ]
  },
  {
   "cell_type": "code",
   "execution_count": 8,
   "metadata": {
    "collapsed": true
   },
   "outputs": [],
   "source": [
    "def threadsafe_generator(f):\n",
    "    \"\"\"A decorator that takes a generator function and makes it thread-safe.\n",
    "    \"\"\"\n",
    "    def g(*a, **kw):\n",
    "        return threadsafe_iter(f(*a, **kw))\n",
    "    return g"
   ]
  },
  {
   "cell_type": "code",
   "execution_count": 9,
   "metadata": {
    "collapsed": true
   },
   "outputs": [],
   "source": [
    "\n",
    "def loop(func, n):\n",
    "    \"\"\"Runs the given function n times in a loop.\n",
    "    \"\"\"\n",
    "    for i in range(n):\n",
    "         func()"
   ]
  },
  {
   "cell_type": "code",
   "execution_count": 10,
   "metadata": {
    "collapsed": true
   },
   "outputs": [],
   "source": [
    "def runthreads(f, repeats=1000, nthreads=10):\n",
    "    \"\"\"Starts multiple threads to execute the given function multiple\n",
    "    times in each thread.\n",
    "    \"\"\"\n",
    "    # create threads\n",
    "    threads = [threading.Thread(target=loop, args=(f, repeats))\n",
    "               for i in range(nthreads)]\n",
    "\n",
    "    # start threads\n",
    "    for t in threads:\n",
    "        t.start()\n",
    "\n",
    "    # wait for threads to finish\n",
    "    for t in threads:\n",
    "        t.join()"
   ]
  },
  {
   "cell_type": "code",
   "execution_count": 11,
   "metadata": {
    "collapsed": true
   },
   "outputs": [],
   "source": [
    "def gettheremainingrequests():\n",
    "        response= requests.get('https://api.the-odds-api.com/v3/sports', params={'api_key': Api_key})\n",
    "        print(response.headers['x-requests-remaining'])\n",
    "        return(int(response.headers['x-requests-remaining']))\n",
    "    "
   ]
  },
  {
   "cell_type": "code",
   "execution_count": 12,
   "metadata": {},
   "outputs": [
    {
     "name": "stdout",
     "output_type": "stream",
     "text": [
      "117\n"
     ]
    },
    {
     "data": {
      "text/plain": [
       "117"
      ]
     },
     "execution_count": 12,
     "metadata": {},
     "output_type": "execute_result"
    }
   ],
   "source": [
    "gettheremainingrequests()"
   ]
  },
  {
   "cell_type": "code",
   "execution_count": 13,
   "metadata": {
    "collapsed": true
   },
   "outputs": [],
   "source": [
    "def gettheoddsAPIsports():\n",
    "    OddsLeagues.clear()\n",
    "    if gettheremainingrequests()>=10:\n",
    "        \n",
    "        sports_response = requests.get('https://api.the-odds-api.com/v3/sports', params={'api_key': Api_key})\n",
    "\n",
    "\n",
    "    sports_json = json.loads(sports_response.text)\n",
    "\n",
    "    if not sports_json['success']:\n",
    "        logging.info('There was a problem with the sports request:',sports_json['msg'] )\n",
    "\n",
    "    else:\n",
    "        logging.info('Successfully got {0} sports'.format(len(sports_json['data'])))\n",
    "        for sport in sports_json['data']:\n",
    "           OddsLeagues[sport[\"key\"]]=[sport[\"title\"],sport[\"group\"],sport[\"active\"]]\n"
   ]
  },
  {
   "cell_type": "code",
   "execution_count": 14,
   "metadata": {
    "collapsed": true
   },
   "outputs": [],
   "source": [
    "def exportallsportstoCSV():\n",
    "    if len(OddsLeagues.keys())==0:\n",
    "        gettheoddsAPIsports()\n",
    "\n",
    "    if os.path.exists(Oddsconfigfile):\n",
    "        wb=load_workbook(filename = Oddsconfigfile)\n",
    "    else:\n",
    "        wb=Workbook()\n",
    "    if \"Odds Leagues\" not in wb.get_sheet_names():\n",
    "        sheet=wb.create_sheet(\"Odds Leagues\")\n",
    "    else:\n",
    "        sheet=wb.active\n",
    "    #sheet.title=\n",
    "    sheet.cell(row=1, column=1).value =\"League ID\"\n",
    "    sheet.cell(row=1, column=2).value =\"League Name\"\n",
    "    sheet.cell(row=1, column=3).value =\"Sport Name\"\n",
    "    sheet.cell(row=1, column=4).value =\"active\"    \n",
    "    index=0\n",
    "    #sheet.cell(row=1, column=3).value =\"VS\"\n",
    "    for key, league in  OddsLeagues.items() :\n",
    "           sheet.cell(row=index+2, column=1).value =key\n",
    "           sheet.cell(row=index+2, column=2).value =league[0]           \n",
    "           sheet.cell(row=index+2, column=3).value =league[1]\n",
    "           sheet.cell(row=index+2, column=4).value =league[2] \n",
    "           index+=1\n",
    "    wb.save(Oddsconfigfile)\n",
    "     \n",
    "        "
   ]
  },
  {
   "cell_type": "code",
   "execution_count": 15,
   "metadata": {
    "collapsed": true
   },
   "outputs": [],
   "source": [
    "def buildOddsleaguesdict():\n",
    "    wb=load_workbook(filename=Oddsconfigfile)\n",
    "    sheet   =wb.active\n",
    "    OddsLeagues.clear()\n",
    "    for row in sheet.iter_rows(row_offset=1):\n",
    "            if(row[0].value!=None):  \n",
    "                OddsLeagues[row[0].value]=[row[1].value,row[2].value,row[3].value]\n",
    "            else:\n",
    "                break\n",
    "    \n",
    "        "
   ]
  },
  {
   "cell_type": "code",
   "execution_count": 16,
   "metadata": {},
   "outputs": [
    {
     "data": {
      "text/plain": [
       "OrderedDict([('americanfootball_ncaaf', ['NCAAF', 'American Football', True]),\n",
       "             ('americanfootball_nfl', ['NFL', 'American Football', True]),\n",
       "             ('baseball_mlb', ['MLB', 'Baseball', True]),\n",
       "             ('basketball_euroleague',\n",
       "              ['Basketball Euroleague', 'Basketball', True]),\n",
       "             ('basketball_nba', ['NBA', 'Basketball', True]),\n",
       "             ('cricket_odi', ['One Day Internationals', 'Cricket', True]),\n",
       "             ('cricket_test_match', ['Test Matches', 'Cricket', True]),\n",
       "             ('mma_mixed_martial_arts', ['MMA', 'Mixed Martial Arts', True]),\n",
       "             ('soccer_efl_champ', ['Championship', 'Soccer - UK', True]),\n",
       "             ('soccer_epl', ['EPL', 'Soccer - UK', True]),\n",
       "             ('soccer_france_ligue_one',\n",
       "              ['Ligue 1 - France', 'Soccer - Europe', True]),\n",
       "             ('soccer_france_ligue_two',\n",
       "              ['Ligue 2 - France', 'Soccer - Europe', True]),\n",
       "             ('soccer_germany_bundesliga',\n",
       "              ['Bundesliga - Germany', 'Soccer - Europe', True]),\n",
       "             ('soccer_germany_bundesliga2',\n",
       "              ['Bundesliga 2 - Germany', 'Soccer - Europe', True]),\n",
       "             ('soccer_italy_serie_a',\n",
       "              ['Serie A - Italy', 'Soccer - Europe', True]),\n",
       "             ('soccer_netherlands_eredivisie',\n",
       "              ['Dutch Eredivisie', 'Soccer - Europe', True]),\n",
       "             ('soccer_portugal_primeira_liga',\n",
       "              ['Primeira Liga - Portugal', 'Soccer - Europe', True]),\n",
       "             ('soccer_russia_premier_league',\n",
       "              ['Premier League - Russia', 'Soccer - Europe', True]),\n",
       "             ('soccer_spain_la_liga',\n",
       "              ['La Liga - Spain', 'Soccer - Europe', True])])"
      ]
     },
     "execution_count": 16,
     "metadata": {},
     "output_type": "execute_result"
    }
   ],
   "source": [
    "buildOddsleaguesdict()\n",
    "OddsLeagues"
   ]
  },
  {
   "cell_type": "markdown",
   "metadata": {
    "collapsed": true
   },
   "source": [
    "totoalodds_response = requests.get('https://api.the-odds-api.com/v3/odds', params={\n",
    "    'api_key': Api_key,\n",
    "    'sport': \"soccer_epl\",\n",
    "    'region': BookieCoutry.uk.value, # uk | us | au\n",
    "    'mkt': \"h2h\" # h2h | spreads | totals\n",
    "})"
   ]
  },
  {
   "cell_type": "markdown",
   "metadata": {
    "collapsed": true
   },
   "source": [
    "spreads_response = requests.get('https://api.the-odds-api.com/v3/odds', params={\n",
    "    'api_key': Api_key,\n",
    "    'sport': \"soccer_epl\",\n",
    "    'region': BookieCoutry.uk.value, # uk | us | au\n",
    "    'mkt': OddsTypes.Spreads # h2h | spreads | totals\n",
    "})"
   ]
  },
  {
   "cell_type": "code",
   "execution_count": 17,
   "metadata": {
    "collapsed": true,
    "scrolled": true
   },
   "outputs": [],
   "source": [
    "def getoddsforallsports():\n",
    "    Eventsqueue.queue.clear()\n",
    "    if len(OddsLeagues)==0:\n",
    "        buildOddsleaguesdict()\n",
    "\n",
    "   # threads = [threading.Thread(target=Fixturesgen.next(), args=(, )) for i in range(numofthreads)]\n",
    "    for  key in OddsLeagues.keys():\n",
    "       if key==\"soccer_epl\": \n",
    "           gen=getodds(key)\n",
    "           try :\n",
    "\n",
    "                runthreads(gen.__next__,len(list(gen)),4)\n",
    "           except StopIteration:\n",
    "                continue\n"
   ]
  },
  {
   "cell_type": "code",
   "execution_count": 18,
   "metadata": {
    "collapsed": true
   },
   "outputs": [],
   "source": [
    "@threadsafe_generator\n",
    "def getodds(leagueid):\n",
    "    \n",
    "    \n",
    "        \n",
    "        try:\n",
    "            mlodds_response = requests.get('https://api.the-odds-api.com/v3/odds', params={\n",
    "            'api_key': Api_key,\n",
    "            'sport': leagueid,\n",
    "            'region': BookieCoutry.uk.value,\n",
    "            'mkt': OddsTypes.MoneyLine.value\n",
    "            })\n",
    "            ml_json = json.loads(mlodds_response.text)\n",
    "            if  gettheremainingrequests()>20:\n",
    "                for event in ml_json[\"data\"]:\n",
    "                    tempevent=OddEvent()\n",
    "                    tempevent.stardate= datetime.utcfromtimestamp (event[\"commence_time\"]).date()\n",
    "                    if tempevent.startdate< datetime.now().date() +  timedelta(days=7):\n",
    "                        tempevent.leagueid= leagueid\n",
    "                        tempevent.sportid=OddsLeagues[tempevent.leagueid][1]\n",
    "                        tempevent.hometeam= event[\"teams\"][0].lower()\n",
    "                        tempevent.awayteam= event[\"teams\"][1].lower() \n",
    "                        if tempevent.hometeam !=event[\"home_team\"].lower():\n",
    "                             tempevent.awayteam= event[\"teams\"][0].lower() \n",
    "                             tempevent.hometeam= event[\"teams\"][1].lower()    \n",
    "\n",
    "                        for bookmaker in event[\"sites\"]:\n",
    "                            if bookmaker[\"site_key\"] in  Trustedbookamers.keys():\n",
    "                                tempbookie=Bookmaker()\n",
    "                                tempbookie.bookmakerid=bookmaker[\"site_key\"]\n",
    "                                tempbookie.bookmakername=bookmaker[\"site_nice\"]\n",
    "                                if event[\"teams\"][0].lower()==event[\"home_team\"].lower():\n",
    "                                    tempbookie.homemlodds=(bookmaker[\"odds\"][\"h2h\"][0])\n",
    "                                    tempbookie.awaymlodds=(bookmaker[\"odds\"][\"h2h\"][1])\n",
    "                                else :\n",
    "                                    tempbookie.homemlodds=(bookmaker[\"odds\"][\"h2h\"][1])\n",
    "                                    tempbookie.awaymlodds=(bookmaker[\"odds\"][\"h2h\"][0])\n",
    "                                if len(bookmaker[\"odds\"][\"h2h\"])==3:\n",
    "                                     tempbookie.drawodds=(bookmaker[\"odds\"][\"h2h\"][2])\n",
    "\n",
    "\n",
    "                                tempevent.bookmakers.append(tempbookie)\n",
    "                        logging.info(\"odds yielded for this event\"+str(tempevent))\n",
    "                        Eventsqueue.put(tempevent)\n",
    "                        print(tempevent)\n",
    "                        yield(tempevent)\n",
    "                    else:\n",
    "                        logging.info(\"event is ,ore than 7 days ahead \"+str(tempevent))\n",
    "            else:\n",
    "              logging.CRITICAL(f\"no more call remainig for this {Api_key}\")\n",
    "              yield None\n",
    "            \n",
    "        except:\n",
    "                 logging.debug(\"no fixture found for this league \"+ OddsLeagues[leagueid][0])\n",
    "\n",
    "              "
   ]
  },
  {
   "cell_type": "code",
   "execution_count": 34,
   "metadata": {},
   "outputs": [
    {
     "name": "stdout",
     "output_type": "stream",
     "text": [
      "243\n",
      "start time 2019-08-12 Sport Soccer - UK   League is soccer_epl home team is arsenal away team is burnley\n",
      "\tbook maker name is Sky Bet home money odds are=1.3  away moneyline odds= 10 draw money line =5 Total is  over odds is =  under odds is =   spread is = home spread ods is =  away spread odds=\n",
      "\tbook maker name is Bet Victor home money odds are=1.3  away moneyline odds= 12 draw money line =5.75 Total is  over odds is =  under odds is =   spread is = home spread ods is =  away spread odds=\n",
      "\tbook maker name is Paddy Power home money odds are=1.3  away moneyline odds= 8.5 draw money line =5 Total is  over odds is =  under odds is =   spread is = home spread ods is =  away spread odds=\n",
      "\tbook maker name is Betfair home money odds are=1.3  away moneyline odds= 13 draw money line =6 Total is  over odds is =  under odds is =   spread is = home spread ods is =  away spread odds=\n",
      "\tbook maker name is Ladbrokes home money odds are=1.29  away moneyline odds= 9.25 draw money line =4.8 Total is  over odds is =  under odds is =   spread is = home spread ods is =  away spread odds=\n",
      "start time 2019-08-12 Sport Soccer - UK   League is soccer_epl home team is southampton away team is liverpool\n",
      "\tbook maker name is Sky Bet home money odds are=7  away moneyline odds= 1.4 draw money line =4.6 Total is  over odds is =  under odds is =   spread is = home spread ods is =  away spread odds=\n",
      "\tbook maker name is Bet Victor home money odds are=9  away moneyline odds= 1.4 draw money line =4.8 Total is  over odds is =  under odds is =   spread is = home spread ods is =  away spread odds=\n",
      "\tbook maker name is Paddy Power home money odds are=8  away moneyline odds= 1.36 draw money line =4.5 Total is  over odds is =  under odds is =   spread is = home spread ods is =  away spread odds=\n",
      "\tbook maker name is Betfair home money odds are=8.8  away moneyline odds= 1.42 draw money line =5.2 Total is  over odds is =  under odds is =   spread is = home spread ods is =  away spread odds=\n",
      "\tbook maker name is Ladbrokes home money odds are=7.5  away moneyline odds= 1.4 draw money line =4.6 Total is  over odds is =  under odds is =   spread is = home spread ods is =  away spread odds=\n",
      "start time 2019-08-12 Sport Soccer - UK   League is soccer_epl home team is norwich city away team is newcastle united\n",
      "\tbook maker name is Sky Bet home money odds are=2.2  away moneyline odds= 3.25 draw money line =3.4 Total is  over odds is =  under odds is =   spread is = home spread ods is =  away spread odds=\n",
      "\tbook maker name is Bet Victor home money odds are=2.3  away moneyline odds= 3.2 draw money line =3.4 Total is  over odds is =  under odds is =   spread is = home spread ods is =  away spread odds=\n",
      "\tbook maker name is Paddy Power home money odds are=2.1  away moneyline odds= 3.3 draw money line =3.3 Total is  over odds is =  under odds is =   spread is = home spread ods is =  away spread odds=\n",
      "\tbook maker name is Betfair home money odds are=2.26  away moneyline odds= 3.5 draw money line =3.5 Total is  over odds is =  under odds is =   spread is = home spread ods is =  away spread odds=\n",
      "\tbook maker name is Ladbrokes home money odds are=2.2  away moneyline odds= 3.25 draw money line =3.3 Total is  over odds is =  under odds is =   spread is = home spread ods is =  away spread odds=\n",
      "start time 2019-08-12 Sport Soccer - UK   League is soccer_epl home team is everton away team is watford\n",
      "\tbook maker name is Sky Bet home money odds are=1.73  away moneyline odds= 4.6 draw money line =3.8 Total is  over odds is =  under odds is =   spread is = home spread ods is =  away spread odds=\n",
      "\tbook maker name is Bet Victor home money odds are=1.73  away moneyline odds= 5 draw money line =4 Total is  over odds is =  under odds is =   spread is = home spread ods is =  away spread odds=\n",
      "\tbook maker name is Paddy Power home money odds are=1.67  away moneyline odds= 4.5 draw money line =3.75 Total is  over odds is =  under odds is =   spread is = home spread ods is =  away spread odds=\n",
      "\tbook maker name is Betfair home money odds are=1.76  away moneyline odds= 5.1 draw money line =4 Total is  over odds is =  under odds is =   spread is = home spread ods is =  away spread odds=\n",
      "\tbook maker name is Ladbrokes home money odds are=1.73  away moneyline odds= 4.6 draw money line =3.75 Total is  over odds is =  under odds is =   spread is = home spread ods is =  away spread odds=\n",
      "start time 2019-08-12 Sport Soccer - UK   League is soccer_epl home team is brighton and hove albion away team is west ham united\n",
      "\tbook maker name is Sky Bet home money odds are=2.5  away moneyline odds= 2.8 draw money line =3.25 Total is  over odds is =  under odds is =   spread is = home spread ods is =  away spread odds=\n",
      "\tbook maker name is Bet Victor home money odds are=2.63  away moneyline odds= 2.9 draw money line =3.3 Total is  over odds is =  under odds is =   spread is = home spread ods is =  away spread odds=\n",
      "\tbook maker name is Paddy Power home money odds are=2.5  away moneyline odds= 2.8 draw money line =3.1 Total is  over odds is =  under odds is =   spread is = home spread ods is =  away spread odds=\n",
      "\tbook maker name is Betfair home money odds are=2.6  away moneyline odds= 3 draw money line =3.3 Total is  over odds is =  under odds is =   spread is = home spread ods is =  away spread odds=\n",
      "\tbook maker name is Ladbrokes home money odds are=2.55  away moneyline odds= 2.8 draw money line =3.1 Total is  over odds is =  under odds is =   spread is = home spread ods is =  away spread odds=\n",
      "start time 2019-08-12 Sport Soccer - UK   League is soccer_epl home team is aston villa away team is bournemouth\n",
      "\tbook maker name is Sky Bet home money odds are=2.38  away moneyline odds= 2.9 draw money line =3.4 Total is  over odds is =  under odds is =   spread is = home spread ods is =  away spread odds=\n",
      "\tbook maker name is Bet Victor home money odds are=2.4  away moneyline odds= 3.13 draw money line =3.4 Total is  over odds is =  under odds is =   spread is = home spread ods is =  away spread odds=\n",
      "\tbook maker name is Paddy Power home money odds are=2.3  away moneyline odds= 3 draw money line =3.3 Total is  over odds is =  under odds is =   spread is = home spread ods is =  away spread odds=\n",
      "\tbook maker name is Betfair home money odds are=2.46  away moneyline odds= 3.1 draw money line =3.55 Total is  over odds is =  under odds is =   spread is = home spread ods is =  away spread odds=\n",
      "\tbook maker name is Ladbrokes home money odds are=2.35  away moneyline odds= 2.9 draw money line =3.3 Total is  over odds is =  under odds is =   spread is = home spread ods is =  away spread odds=\n",
      "start time 2019-08-12 Sport Soccer - UK   League is soccer_epl home team is manchester city away team is tottenham hotspur\n",
      "\tbook maker name is Sky Bet home money odds are=1.36  away moneyline odds= 8 draw money line =5 Total is  over odds is =  under odds is =   spread is = home spread ods is =  away spread odds=\n",
      "\tbook maker name is Bet Victor home money odds are=1.36  away moneyline odds= 10 draw money line =5.25 Total is  over odds is =  under odds is =   spread is = home spread ods is =  away spread odds=\n",
      "\tbook maker name is Paddy Power home money odds are=1.3  away moneyline odds= 8.5 draw money line =5 Total is  over odds is =  under odds is =   spread is = home spread ods is =  away spread odds=\n",
      "\tbook maker name is Betfair home money odds are=1.37  away moneyline odds= 9.6 draw money line =5.7 Total is  over odds is =  under odds is =   spread is = home spread ods is =  away spread odds=\n",
      "\tbook maker name is Ladbrokes home money odds are=1.36  away moneyline odds= 8.5 draw money line =5 Total is  over odds is =  under odds is =   spread is = home spread ods is =  away spread odds=\n",
      "start time 2019-08-12 Sport Soccer - UK   League is soccer_epl home team is sheffield united away team is crystal palace\n",
      "\tbook maker name is Sky Bet home money odds are=2.63  away moneyline odds= 2.88 draw money line =3 Total is  over odds is =  under odds is =   spread is = home spread ods is =  away spread odds=\n",
      "\tbook maker name is Paddy Power home money odds are=2.6  away moneyline odds= 2.88 draw money line =3 Total is  over odds is =  under odds is =   spread is = home spread ods is =  away spread odds=\n",
      "\tbook maker name is Bet Victor home money odds are=2.7  away moneyline odds= 3 draw money line =3.1 Total is  over odds is =  under odds is =   spread is = home spread ods is =  away spread odds=\n",
      "\tbook maker name is Betfair home money odds are=2.7  away moneyline odds= 2.98 draw money line =3.2 Total is  over odds is =  under odds is =   spread is = home spread ods is =  away spread odds=\n",
      "\tbook maker name is Ladbrokes home money odds are=2.63  away moneyline odds= 2.8 draw money line =3 Total is  over odds is =  under odds is =   spread is = home spread ods is =  away spread odds=\n",
      "start time 2019-08-12 Sport Soccer - UK   League is soccer_epl home team is chelsea away team is leicester city\n",
      "\tbook maker name is Paddy Power home money odds are=1.73  away moneyline odds= 4.5 draw money line =3.6 Total is  over odds is =  under odds is =   spread is = home spread ods is =  away spread odds=\n",
      "\tbook maker name is Sky Bet home money odds are=1.8  away moneyline odds= 4.5 draw money line =3.6 Total is  over odds is =  under odds is =   spread is = home spread ods is =  away spread odds=\n",
      "\tbook maker name is Bet Victor home money odds are=1.83  away moneyline odds= 4.8 draw money line =3.6 Total is  over odds is =  under odds is =   spread is = home spread ods is =  away spread odds=\n",
      "\tbook maker name is Betfair home money odds are=1.83  away moneyline odds= 4.9 draw money line =3.75 Total is  over odds is =  under odds is =   spread is = home spread ods is =  away spread odds=\n",
      "\tbook maker name is Ladbrokes home money odds are=1.8  away moneyline odds= 4.5 draw money line =3.5 Total is  over odds is =  under odds is =   spread is = home spread ods is =  away spread odds=\n",
      "start time 2019-08-12 Sport Soccer - UK   League is soccer_epl home team is wolverhampton wanderers away team is manchester united\n",
      "\tbook maker name is Sky Bet home money odds are=3.3  away moneyline odds= 2.15 draw money line =3.3 Total is  over odds is =  under odds is =   spread is = home spread ods is =  away spread odds=\n",
      "\tbook maker name is Bet Victor home money odds are=3.5  away moneyline odds= 2.25 draw money line =3.3 Total is  over odds is =  under odds is =   spread is = home spread ods is =  away spread odds=\n",
      "\tbook maker name is Betfair home money odds are=3.4  away moneyline odds= 2.3 draw money line =3.4 Total is  over odds is =  under odds is =   spread is = home spread ods is =  away spread odds=\n",
      "\tbook maker name is Paddy Power home money odds are=3.3  away moneyline odds= 2.2 draw money line =3.2 Total is  over odds is =  under odds is =   spread is = home spread ods is =  away spread odds=\n",
      "\tbook maker name is Ladbrokes home money odds are=3.3  away moneyline odds= 2.2 draw money line =3.3 Total is  over odds is =  under odds is =   spread is = home spread ods is =  away spread odds=\n",
      "start time 2019-08-12 Sport Soccer - UK   League is soccer_epl home team is aston villa away team is everton\n",
      "\tbook maker name is Paddy Power home money odds are=3.3  away moneyline odds= 2.1 draw money line =3.5 Total is  over odds is =  under odds is =   spread is = home spread ods is =  away spread odds=\n",
      "\tbook maker name is Betfair home money odds are=3.35  away moneyline odds= 2.18 draw money line =3.6 Total is  over odds is =  under odds is =   spread is = home spread ods is =  away spread odds=\n",
      "\tbook maker name is Sky Bet home money odds are=3.4  away moneyline odds= 1.91 draw money line =3.5 Total is  over odds is =  under odds is =   spread is = home spread ods is =  away spread odds=\n",
      "\tbook maker name is Ladbrokes home money odds are=3.2  away moneyline odds= 2.15 draw money line =3.5 Total is  over odds is =  under odds is =   spread is = home spread ods is =  away spread odds=\n",
      "\tbook maker name is Bet Victor home money odds are=3.5  away moneyline odds= 2.15 draw money line =3.5 Total is  over odds is =  under odds is =   spread is = home spread ods is =  away spread odds=\n",
      "start time 2019-08-12 Sport Soccer - UK   League is soccer_epl home team is norwich city away team is chelsea\n",
      "\tbook maker name is Paddy Power home money odds are=5  away moneyline odds= 1.62 draw money line =4 Total is  over odds is =  under odds is =   spread is = home spread ods is =  away spread odds=\n",
      "\tbook maker name is Betfair home money odds are=4.9  away moneyline odds= 1.7 draw money line =4.4 Total is  over odds is =  under odds is =   spread is = home spread ods is =  away spread odds=\n",
      "\tbook maker name is Sky Bet home money odds are=5.5  away moneyline odds= 1.57 draw money line =3.75 Total is  over odds is =  under odds is =   spread is = home spread ods is =  away spread odds=\n",
      "\tbook maker name is Bet Victor home money odds are=5.5  away moneyline odds= 1.67 draw money line =4 Total is  over odds is =  under odds is =   spread is = home spread ods is =  away spread odds=\n",
      "\tbook maker name is Ladbrokes home money odds are=4.75  away moneyline odds= 1.67 draw money line =3.9 Total is  over odds is =  under odds is =   spread is = home spread ods is =  away spread odds=\n",
      "start time 2019-08-12 Sport Soccer - UK   League is soccer_epl home team is brighton and hove albion away team is southampton\n",
      "\tbook maker name is Paddy Power home money odds are=2.4  away moneyline odds= 2.8 draw money line =3.3 Total is  over odds is =  under odds is =   spread is = home spread ods is =  away spread odds=\n",
      "\tbook maker name is Betfair home money odds are=2.54  away moneyline odds= 2.92 draw money line =3.3 Total is  over odds is =  under odds is =   spread is = home spread ods is =  away spread odds=\n",
      "\tbook maker name is Sky Bet home money odds are=2.3  away moneyline odds= 3.1 draw money line =3.3 Total is  over odds is =  under odds is =   spread is = home spread ods is =  away spread odds=\n",
      "\tbook maker name is Bet Victor home money odds are=2.5  away moneyline odds= 3.1 draw money line =3.25 Total is  over odds is =  under odds is =   spread is = home spread ods is =  away spread odds=\n",
      "\tbook maker name is Ladbrokes home money odds are=2.5  away moneyline odds= 2.9 draw money line =3.1 Total is  over odds is =  under odds is =   spread is = home spread ods is =  away spread odds=\n",
      "start time 2019-08-12 Sport Soccer - UK   League is soccer_epl home team is watford away team is west ham united\n",
      "\tbook maker name is Paddy Power home money odds are=2.3  away moneyline odds= 2.88 draw money line =3.4 Total is  over odds is =  under odds is =   spread is = home spread ods is =  away spread odds=\n",
      "\tbook maker name is Betfair home money odds are=2.42  away moneyline odds= 2.96 draw money line =3.55 Total is  over odds is =  under odds is =   spread is = home spread ods is =  away spread odds=\n",
      "\tbook maker name is Sky Bet home money odds are=2.5  away moneyline odds= 2.75 draw money line =3.4 Total is  over odds is =  under odds is =   spread is = home spread ods is =  away spread odds=\n",
      "\tbook maker name is Bet Victor home money odds are=2.5  away moneyline odds= 2.9 draw money line =3.4 Total is  over odds is =  under odds is =   spread is = home spread ods is =  away spread odds=\n",
      "start time 2019-08-12 Sport Soccer - UK   League is soccer_epl home team is manchester united away team is crystal palace\n",
      "\tbook maker name is Paddy Power home money odds are=1.4  away moneyline odds= 7 draw money line =4.5 Total is  over odds is =  under odds is =   spread is = home spread ods is =  away spread odds=\n",
      "\tbook maker name is Betfair home money odds are=1.43  away moneyline odds= 8 draw money line =4.7 Total is  over odds is =  under odds is =   spread is = home spread ods is =  away spread odds=\n",
      "\tbook maker name is Sky Bet home money odds are=1.36  away moneyline odds= 8 draw money line =5 Total is  over odds is =  under odds is =   spread is = home spread ods is =  away spread odds=\n",
      "\tbook maker name is Bet Victor home money odds are=1.4  away moneyline odds= 9 draw money line =4.8 Total is  over odds is =  under odds is =   spread is = home spread ods is =  away spread odds=\n",
      "start time 2019-08-12 Sport Soccer - UK   League is soccer_epl home team is sheffield united away team is leicester city\n",
      "\tbook maker name is Paddy Power home money odds are=3.75  away moneyline odds= 1.91 draw money line =3.4 Total is  over odds is =  under odds is =   spread is = home spread ods is =  away spread odds=\n",
      "\tbook maker name is Betfair home money odds are=3.95  away moneyline odds= 1.99 draw money line =3.2 Total is  over odds is =  under odds is =   spread is = home spread ods is =  away spread odds=\n",
      "\tbook maker name is Sky Bet home money odds are=4  away moneyline odds= 1.91 draw money line =3.5 Total is  over odds is =  under odds is =   spread is = home spread ods is =  away spread odds=\n",
      "\tbook maker name is Bet Victor home money odds are=4.2  away moneyline odds= 1.95 draw money line =3.4 Total is  over odds is =  under odds is =   spread is = home spread ods is =  away spread odds=\n",
      "start time 2019-08-12 Sport Soccer - UK   League is soccer_epl home team is wolverhampton wanderers away team is burnley\n",
      "\tbook maker name is Paddy Power home money odds are=1.67  away moneyline odds= 5 draw money line =3.6 Total is  over odds is =  under odds is =   spread is = home spread ods is =  away spread odds=\n",
      "\tbook maker name is Betfair home money odds are=1.76  away moneyline odds= 5 draw money line =3.75 Total is  over odds is =  under odds is =   spread is = home spread ods is =  away spread odds=\n",
      "\tbook maker name is Sky Bet home money odds are=1.62  away moneyline odds= 5.5 draw money line =3.8 Total is  over odds is =  under odds is =   spread is = home spread ods is =  away spread odds=\n",
      "\tbook maker name is Bet Victor home money odds are=1.73  away moneyline odds= 5.75 draw money line =3.6 Total is  over odds is =  under odds is =   spread is = home spread ods is =  away spread odds=\n",
      "\tbook maker name is Ladbrokes home money odds are=1.75  away moneyline odds= 5 draw money line =3.4 Total is  over odds is =  under odds is =   spread is = home spread ods is =  away spread odds=\n",
      "start time 2019-08-12 Sport Soccer - UK   League is soccer_epl home team is liverpool away team is arsenal\n",
      "\tbook maker name is Paddy Power home money odds are=1.44  away moneyline odds= 5.5 draw money line =4.5 Total is  over odds is =  under odds is =   spread is = home spread ods is =  away spread odds=\n",
      "\tbook maker name is Betfair home money odds are=1.52  away moneyline odds= 5.9 draw money line =4.9 Total is  over odds is =  under odds is =   spread is = home spread ods is =  away spread odds=\n",
      "\tbook maker name is Sky Bet home money odds are=1.5  away moneyline odds= 6 draw money line =4.33 Total is  over odds is =  under odds is =   spread is = home spread ods is =  away spread odds=\n",
      "\tbook maker name is Bet Victor home money odds are=1.53  away moneyline odds= 6.5 draw money line =4.5 Total is  over odds is =  under odds is =   spread is = home spread ods is =  away spread odds=\n",
      "\tbook maker name is Ladbrokes home money odds are=1.5  away moneyline odds= 6 draw money line =4.5 Total is  over odds is =  under odds is =   spread is = home spread ods is =  away spread odds=\n",
      "start time 2019-08-12 Sport Soccer - UK   League is soccer_epl home team is bournemouth away team is manchester city\n",
      "\tbook maker name is Paddy Power home money odds are=13  away moneyline odds= 1.17 draw money line =6.5 Total is  over odds is =  under odds is =   spread is = home spread ods is =  away spread odds=\n",
      "\tbook maker name is Betfair home money odds are=14  away moneyline odds= 1.23 draw money line =7 Total is  over odds is =  under odds is =   spread is = home spread ods is =  away spread odds=\n",
      "\tbook maker name is Sky Bet home money odds are=13  away moneyline odds= 1.17 draw money line =8 Total is  over odds is =  under odds is =   spread is = home spread ods is =  away spread odds=\n",
      "\tbook maker name is Bet Victor home money odds are=17  away moneyline odds= 1.2 draw money line =7.5 Total is  over odds is =  under odds is =   spread is = home spread ods is =  away spread odds=\n",
      "start time 2019-08-12 Sport Soccer - UK   League is soccer_epl home team is tottenham hotspur away team is newcastle united\n",
      "\tbook maker name is Paddy Power home money odds are=1.29  away moneyline odds= 9 draw money line =5.5 Total is  over odds is =  under odds is =   spread is = home spread ods is =  away spread odds=\n",
      "\tbook maker name is Betfair home money odds are=1.33  away moneyline odds= 10.5 draw money line =5 Total is  over odds is =  under odds is =   spread is = home spread ods is =  away spread odds=\n",
      "\tbook maker name is Sky Bet home money odds are=1.25  away moneyline odds= 11 draw money line =6 Total is  over odds is =  under odds is =   spread is = home spread ods is =  away spread odds=\n",
      "\tbook maker name is Bet Victor home money odds are=1.29  away moneyline odds= 11.5 draw money line =6 Total is  over odds is =  under odds is =   spread is = home spread ods is =  away spread odds=\n"
     ]
    },
    {
     "name": "stderr",
     "output_type": "stream",
     "text": [
      "Exception in thread Thread-11:\n",
      "Traceback (most recent call last):\n",
      "  File \"C:\\Program Files (x86)\\Microsoft Visual Studio\\Shared\\Anaconda3_64\\lib\\threading.py\", line 916, in _bootstrap_inner\n",
      "    self.run()\n",
      "  File \"C:\\Program Files (x86)\\Microsoft Visual Studio\\Shared\\Anaconda3_64\\lib\\threading.py\", line 864, in run\n",
      "    self._target(*self._args, **self._kwargs)\n",
      "  File \"<ipython-input-10-cec4be1165aa>\", line 6, in loop\n",
      "    func()\n",
      "  File \"<ipython-input-8-4d0f2bae2abd>\", line 14, in __next__\n",
      "    return self.it.__next__()\n",
      "StopIteration\n",
      "Exception in thread Thread-12:\n",
      "Traceback (most recent call last):\n",
      "  File \"C:\\Program Files (x86)\\Microsoft Visual Studio\\Shared\\Anaconda3_64\\lib\\threading.py\", line 916, in _bootstrap_inner\n",
      "    self.run()\n",
      "  File \"C:\\Program Files (x86)\\Microsoft Visual Studio\\Shared\\Anaconda3_64\\lib\\threading.py\", line 864, in run\n",
      "    self._target(*self._args, **self._kwargs)\n",
      "  File \"<ipython-input-10-cec4be1165aa>\", line 6, in loop\n",
      "    func()\n",
      "  File \"<ipython-input-8-4d0f2bae2abd>\", line 14, in __next__\n",
      "    return self.it.__next__()\n",
      "StopIteration\n",
      "Exception in thread Thread-13:\n",
      "Traceback (most recent call last):\n",
      "  File \"C:\\Program Files (x86)\\Microsoft Visual Studio\\Shared\\Anaconda3_64\\lib\\threading.py\", line 916, in _bootstrap_inner\n",
      "    self.run()\n",
      "  File \"C:\\Program Files (x86)\\Microsoft Visual Studio\\Shared\\Anaconda3_64\\lib\\threading.py\", line 864, in run\n",
      "    self._target(*self._args, **self._kwargs)\n",
      "  File \"<ipython-input-10-cec4be1165aa>\", line 6, in loop\n",
      "    func()\n",
      "  File \"<ipython-input-8-4d0f2bae2abd>\", line 14, in __next__\n",
      "    return self.it.__next__()\n",
      "StopIteration\n",
      "Exception in thread Thread-14:\n",
      "Traceback (most recent call last):\n",
      "  File \"C:\\Program Files (x86)\\Microsoft Visual Studio\\Shared\\Anaconda3_64\\lib\\threading.py\", line 916, in _bootstrap_inner\n",
      "    self.run()\n",
      "  File \"C:\\Program Files (x86)\\Microsoft Visual Studio\\Shared\\Anaconda3_64\\lib\\threading.py\", line 864, in run\n",
      "    self._target(*self._args, **self._kwargs)\n",
      "  File \"<ipython-input-10-cec4be1165aa>\", line 6, in loop\n",
      "    func()\n",
      "  File \"<ipython-input-8-4d0f2bae2abd>\", line 14, in __next__\n",
      "    return self.it.__next__()\n",
      "StopIteration\n",
      "\n",
      "\n",
      "\n",
      "\n"
     ]
    }
   ],
   "source": [
    "getoddsforallsports()"
   ]
  },
  {
   "cell_type": "code",
   "execution_count": 21,
   "metadata": {
    "collapsed": true
   },
   "outputs": [],
   "source": [
    "def buttonclick(change):\n",
    "    button.disabled=True\n",
    "    t.disabled=True\n",
    "    gen=getodds(leagueid=leagueidlabel.value)\n",
    "    while True:\n",
    "        try:\n",
    "\n",
    "            if len(OddsLeagues) ==0:\n",
    "                buildOddsleaguesdict()    \n",
    "                \n",
    "            print(gen.__next__())\n",
    "        except StopIteration:\n",
    "            break\n",
    "    button.disabled=False\n",
    "    t.disabled=False\n",
    "def changelabelname(change):\n",
    "    leagueidlabel.value=str(list(OddsLeagues.keys())[t.index])\n",
    "t=widgets.Select(options=OddsLeagues.values())\n",
    "t.layout.width=\"initial\"\n",
    "button=widgets.Button()\n",
    "button.description=\"Update the odds\"\n",
    "button.style.button_color=\"skyblue\"\n",
    "button.on_click(buttonclick)\n",
    "leagueidlabel=widgets.Label(\"LeagueID\")\n",
    "#leagueidlabel.values=\"gggg\"\n",
    "t.observe(changelabelname,names=[\"label\"])\n",
    "\n",
    "\n",
    "\n"
   ]
  },
  {
   "cell_type": "code",
   "execution_count": 22,
   "metadata": {},
   "outputs": [
    {
     "data": {
      "application/vnd.jupyter.widget-view+json": {
       "model_id": "4a072fdac14045f98dc49f1647537c66",
       "version_major": 2,
       "version_minor": 0
      },
      "text/plain": [
       "A Jupyter Widget"
      ]
     },
     "metadata": {},
     "output_type": "display_data"
    },
    {
     "data": {
      "application/vnd.jupyter.widget-view+json": {
       "model_id": "cc1c5d642f114d6abd7dff67cfb11215",
       "version_major": 2,
       "version_minor": 0
      },
      "text/plain": [
       "A Jupyter Widget"
      ]
     },
     "metadata": {},
     "output_type": "display_data"
    },
    {
     "data": {
      "application/vnd.jupyter.widget-view+json": {
       "model_id": "b2c8e43bb87442b4b62e8b0321056200",
       "version_major": 2,
       "version_minor": 0
      },
      "text/plain": [
       "A Jupyter Widget"
      ]
     },
     "metadata": {},
     "output_type": "display_data"
    }
   ],
   "source": [
    "clear_output()\n",
    "display(t,button,leagueidlabel)\n"
   ]
  },
  {
   "cell_type": "code",
   "execution_count": 19,
   "metadata": {
    "collapsed": true
   },
   "outputs": [],
   "source": [
    "def updatetheextractedodds(temp):\n",
    "\n",
    "    while len(temp.queue)>0:\n",
    "        tempevent=temp.queue.pop()\n",
    "        #print(tempevent)\n",
    "        #mma\n",
    "        if tempevent.leagueid == \"mma_mixed_martial_arts\":\n",
    "            updateCSVwithodds(Comp(sport=\"mma\"),tempevent)\n",
    "        else :\n",
    "            updateCSVwithodds(Comp.Oddsleagues[tempevent.leagueid],tempevent)\n",
    "        time.sleep(2)\n",
    "        continue    \n",
    "        #boxing \n",
    "      \n"
   ]
  },
  {
   "cell_type": "code",
   "execution_count": 20,
   "metadata": {
    "collapsed": true
   },
   "outputs": [],
   "source": [
    "def generateOddsColumsnanmes():\n",
    "    for comp in Comp.Oddsleagues.values():\n",
    "        addthetrustedbookiecolumns(comp)"
   ]
  },
  {
   "cell_type": "code",
   "execution_count": 21,
   "metadata": {
    "collapsed": true
   },
   "outputs": [],
   "source": [
    "def addthetrustedbookiecolumns(comp=None):\n",
    "\n",
    "        fname=getthefilename(comp)\n",
    "   # set_trace()\n",
    "        if not os.path.exists(DataMiningspath+fname):\n",
    "            logging.info(\"{0} {1} {2}fixtures not saved yet\".format(comp.sport,comp.country,comp.competitionname))\n",
    "            return \n",
    "        wb = load_workbook(filename = DataMiningspath+fname)\n",
    "        sheet=wb.active\n",
    "        sheet.column_dimensions['L'].hidden= False\n",
    "        sheet.column_dimensions['M'].hidden= False\n",
    "        counter=0\n",
    "        if comp.sport==\"mma\":\n",
    "            start=15\n",
    "        elif comp.sport== \"crckiet\":\n",
    "            start=19\n",
    "        else:\n",
    "            start =14 \n",
    "        for bmaker,bmakerindex in Trustedbookamers.items() :\n",
    "\n",
    "\n",
    "                    sheet.cell(row=1, column=start).value= bmaker + \" Home ML\"         \n",
    "                    sheet.cell(row=1, column=start+1).value = bmaker + \" Away ML\"\n",
    "                    if comp.sport==\"soccer\":\n",
    "                      sheet.cell(row=1, column=start+2).value = bmaker + \" Draw ML\"\n",
    "                    counter+=1 \n",
    "                    start =start +2 if comp.sport!=\"soccer\" else start +3 \n",
    "        logging.info(f\"{fname} openned\")\n",
    "        sheet=Methods.adjustwidth(sheet)\n",
    "        try:  \n",
    "            wb.save(DataMiningspath+fname)\n",
    "           # logging.info(\"league {0} : {1} {2} boookie \".format(comp.sport ,str(str(counter))))\n",
    "            return \n",
    "        except Exception as e:\n",
    "            return(fname + \"is open by other person\")\n",
    "        return\n"
   ]
  },
  {
   "cell_type": "code",
   "execution_count": 22,
   "metadata": {
    "collapsed": true
   },
   "outputs": [],
   "source": [
    "def getthefilename(comp=None):\n",
    "    if comp is None : \n",
    "        logging.info(\"no file for this extracted odds\")\n",
    "        return \"no file for this extracted odds\"\n",
    "    compname= comp.competitionname \n",
    "    if compname==\"wnba\" or compname!=\"2-bundesliga\" :\n",
    "        compname= Methods.replacecompetionanme(compname)   \n",
    "    if comp.country==\"egypt\":\n",
    "        fname=\"egyptian-\"+compname.lower().replace(\" \",\"-\").replace(\":\",\"-\") +\" \"+ comp.season+\".xlsx\"\n",
    "    elif comp.country==\"russia\":\n",
    "        fname=\"russian-\"+compname.lower().replace(\" \",\"-\").replace(\":\",\"-\") +\" \"+ comp.season+\".xlsx\"        \n",
    "    elif comp.sport==\"handball\":\n",
    "        fname=\"handball-\"+compname.lower().replace(\" \",\"-\").replace(\":\",\"-\") +\" \"+ comp.season+\".xlsx\"\n",
    "    elif comp.sport==\"mma\" or comp.sport==\"boxing\" :\n",
    "        fname=  comp.sport + \" \" + comp.season+\".xlsx\"\n",
    "    elif compname==\"super-cup\":\n",
    "        fname= comp.country + \" \" + compname.lower().replace(\" \",\"-\").replace(\":\",\"-\") + \" \"+comp.season+\".xlsx\" \n",
    "    elif compname==\"premiership\" and comp.sport==\"rugby-union\":\n",
    "        fname=\"aviva \"+compname.lower().replace(\" \",\"-\").replace(\":\",\"-\") +\" \"+ comp.season+\".xlsx\"       \n",
    "    else:\n",
    "        fname=compname.lower().replace(\" \",\"-\").replace(\":\",\"-\") +\" \"+ comp.season+\".xlsx\"\n",
    "    #print(fname)\n",
    "    logging.info(\"File name is :{0}\".format(fname)) \n",
    "\n",
    "    return fname\n",
    "    "
   ]
  },
  {
   "cell_type": "code",
   "execution_count": 23,
   "metadata": {
    "collapsed": true
   },
   "outputs": [],
   "source": [
    "def updateCSVwithodds(comp=None,event=None):\n",
    "\n",
    "    fname=getthefilename(comp)\n",
    "\n",
    "    if not os.path.exists(DataMiningspath+fname):\n",
    "        logging.info(\"{0} {1} {2}fixtures not saved yet\".format(comp.sport,comp.country,compname))\n",
    "        return comp.sport+\" \"+ comp.country+\" \"+ compname +\" fixtures not saved yet\"\n",
    "    wb = load_workbook(filename = DataMiningspath+fname)\n",
    "    sheet=wb.active\n",
    "    counter=0\n",
    "    ratio=2\n",
    "    if comp.sport==\"mma\":\n",
    "        start=14\n",
    "    elif comp.sport== \"crckiet\":\n",
    "        start=18\n",
    "    else:\n",
    "        start =13 \n",
    "        if comp.sport==\"soccer\":\n",
    "            ratio =3\n",
    "    logging.info(f\"{fname} openned\")\n",
    "    hometeam=event.hometeam.replace(\" \",\"\")\n",
    "    awayteam=event.awayteam.replace(\" \",\"\")\n",
    "    for index,row in enumerate(sheet.iter_rows()):\n",
    "\n",
    "                if  index!=0 and  row[12].value!=\"Updated\" :\n",
    "                         player1text= row[1].value.lower().replace(\" \",\"\").split(\"(\")[0].replace(\".\",\"\") if \"(\" in row[1].value else row[1].value.lower().replace(\" \",\"\").replace(\".\",\"\")\n",
    "                         player2text=row[3].value.lower().replace(\" \",\"\").split(\"(\")[0].replace(\".\",\"\") if \"(\" in row[3].value else row[3].value.lower().replace(\" \",\"\").replace(\".\",\"\")\n",
    "                         \n",
    "                         if fuzz.partial_ratio(player1text,hometeam)>=70 and  fuzz.partial_ratio(player2text,awayteam)>=80 :\n",
    "                            for bookmaker in event.bookmakers:\n",
    "                                #print(bookmaker)\n",
    "                                #set_trace()\n",
    "                                columnindex=start+ratio * Trustedbookamers[bookmaker.bookmakerid]\n",
    "                                row[columnindex].value= bookmaker.homemlodds      \n",
    "                                row[columnindex+1].value = bookmaker.awaymlodds\n",
    "                                if comp.sport==\"soccer\":\n",
    "                                    row[columnindex+2].value = bookmaker.drawodds      \n",
    "                            counter+=1 \n",
    "                logging.info(f\"{event.leagueid} event  odds has been updated \")\n",
    "\n",
    "                                            \n",
    "    sheet=Methods.adjustwidth(sheet)\n",
    "    try:  \n",
    "        wb.save(DataMiningspath+fname)\n",
    "        print  (\"league \" + comp.country +\" :\"+compname +\" \"+ str(counter)+ \" matches updated\")\n",
    "    except Exception as e:\n",
    "        return(fname + \"is open by other person\")"
   ]
  },
  {
   "cell_type": "code",
   "execution_count": 31,
   "metadata": {},
   "outputs": [
    {
     "ename": "TypeError",
     "evalue": "updatetheextractedodds() missing 1 required positional argument: 'temp'",
     "output_type": "error",
     "traceback": [
      "\u001b[1;31m---------------------------------------------------------------------------\u001b[0m",
      "\u001b[1;31mTypeError\u001b[0m                                 Traceback (most recent call last)",
      "\u001b[1;32m<ipython-input-31-333e7a36d0a1>\u001b[0m in \u001b[0;36m<module>\u001b[1;34m()\u001b[0m\n\u001b[1;32m----> 1\u001b[1;33m \u001b[0mupdatetheextractedodds\u001b[0m\u001b[1;33m(\u001b[0m\u001b[1;33m)\u001b[0m\u001b[1;33m\u001b[0m\u001b[0m\n\u001b[0m",
      "\u001b[1;31mTypeError\u001b[0m: updatetheextractedodds() missing 1 required positional argument: 'temp'"
     ]
    }
   ],
   "source": [
    "updatetheextractedodds()"
   ]
  },
  {
   "cell_type": "code",
   "execution_count": 35,
   "metadata": {},
   "outputs": [
    {
     "data": {
      "text/plain": [
       "20"
      ]
     },
     "execution_count": 35,
     "metadata": {},
     "output_type": "execute_result"
    }
   ],
   "source": [
    "tempqueue=Eventsqueue.queue.copy()\n",
    "len(Eventsqueue.queue)"
   ]
  },
  {
   "cell_type": "code",
   "execution_count": 39,
   "metadata": {},
   "outputs": [
    {
     "data": {
      "text/plain": [
       "71"
      ]
     },
     "execution_count": 39,
     "metadata": {},
     "output_type": "execute_result"
    }
   ],
   "source": [
    "Comp.buildallleagues()"
   ]
  },
  {
   "cell_type": "code",
   "execution_count": null,
   "metadata": {
    "collapsed": true
   },
   "outputs": [],
   "source": []
  },
  {
   "cell_type": "code",
   "execution_count": null,
   "metadata": {
    "collapsed": true
   },
   "outputs": [],
   "source": [
    "while len(tempqueue)!=10:\n",
    "       event= tempqueue.pop()\n",
    "       if event.leagueid==\"soccer_france_ligue_one\":\n",
    "            print(event)"
   ]
  },
  {
   "cell_type": "code",
   "execution_count": 36,
   "metadata": {},
   "outputs": [
    {
     "name": "stdout",
     "output_type": "stream",
     "text": [
      "20\n",
      "19\n",
      "1818\n",
      "\n",
      "1616\n",
      "\n",
      "1414\n",
      "\n",
      "1212\n",
      "\n",
      "10\n",
      "9\n",
      "88\n",
      "\n",
      "66\n",
      "\n",
      "4\n",
      "3\n",
      "2\n",
      "1\n"
     ]
    }
   ],
   "source": [
    "for i in range(2):\n",
    "    worker = Thread(target=updatetheextractedodds, args=(Eventsqueue,))\n",
    "    worker.setDaemon(True)\n",
    "    worker.start()\n",
    "worker.join()\n",
    "Eventsqueue.task_done()"
   ]
  },
  {
   "cell_type": "code",
   "execution_count": 25,
   "metadata": {
    "collapsed": true
   },
   "outputs": [],
   "source": [
    "generateOddsColumsnanmes()"
   ]
  },
  {
   "cell_type": "code",
   "execution_count": 24,
   "metadata": {},
   "outputs": [
    {
     "data": {
      "text/plain": [
       "'laliga'"
      ]
     },
     "execution_count": 24,
     "metadata": {},
     "output_type": "execute_result"
    }
   ],
   "source": [
    "Comp.Oddsleagues[\"soccer_spain_la_liga\"].competitionname"
   ]
  },
  {
   "cell_type": "code",
   "execution_count": null,
   "metadata": {
    "collapsed": true
   },
   "outputs": [],
   "source": []
  },
  {
   "cell_type": "code",
   "execution_count": null,
   "metadata": {
    "collapsed": true
   },
   "outputs": [],
   "source": []
  },
  {
   "cell_type": "code",
   "execution_count": null,
   "metadata": {
    "collapsed": true
   },
   "outputs": [],
   "source": []
  }
 ],
 "metadata": {
  "kernelspec": {
   "display_name": "Python 3",
   "language": "python",
   "name": "python3"
  },
  "language_info": {
   "codemirror_mode": {
    "name": "ipython",
    "version": 3
   },
   "file_extension": ".py",
   "mimetype": "text/x-python",
   "name": "python",
   "nbconvert_exporter": "python",
   "pygments_lexer": "ipython3",
   "version": "3.6.2"
  }
 },
 "nbformat": 4,
 "nbformat_minor": 2
}
