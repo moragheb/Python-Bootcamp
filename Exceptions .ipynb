{
 "cells": [
  {
   "cell_type": "code",
   "execution_count": 1,
   "metadata": {},
   "outputs": [
    {
     "name": "stdout",
     "output_type": "stream",
     "text": [
      "20\n",
      "HYG\n"
     ]
    }
   ],
   "source": [
    "try:\n",
    "    result=10+10\n",
    "except:\n",
    "    print(\"you are a dumbasss\")\n",
    "else:\n",
    "    print(result)\n",
    "finally:\n",
    "    print(\"HYG\")"
   ]
  },
  {
   "cell_type": "code",
   "execution_count": 2,
   "metadata": {},
   "outputs": [
    {
     "name": "stdout",
     "output_type": "stream",
     "text": [
      "ddd\n",
      "im here\n"
     ]
    }
   ],
   "source": [
    "try:\n",
    "    with open(\"Exceptions.txt\",\"r+\") as f:\n",
    "         f.write(\"ddd\")\n",
    "         f.seek(0)   \n",
    "         print(f.read())\n",
    "except  :\n",
    "       print(\"dumbass\")\n",
    "finally:\n",
    "         print(\"im here\")"
   ]
  },
  {
   "cell_type": "code",
   "execution_count": 3,
   "metadata": {
    "collapsed": true
   },
   "outputs": [],
   "source": [
    "def ask_for_int():\n",
    "    while True:\n",
    "        try:\n",
    "            result=int(input(\"please enter anumber : \"))\n",
    "        except:\n",
    "            print(\"this is not a number\")\n",
    "        else:\n",
    "            print(\"your number is gooodo\")\n",
    "            break"
   ]
  },
  {
   "cell_type": "code",
   "execution_count": 4,
   "metadata": {},
   "outputs": [
    {
     "name": "stdout",
     "output_type": "stream",
     "text": [
      "please enter anumber : reee\n",
      "this is not a number\n",
      "please enter anumber : reeeeddd\n",
      "this is not a number\n",
      "please enter anumber : 3\n",
      "your number is gooodo\n"
     ]
    }
   ],
   "source": [
    "ask_for_int()"
   ]
  },
  {
   "cell_type": "code",
   "execution_count": null,
   "metadata": {
    "collapsed": true
   },
   "outputs": [],
   "source": []
  },
  {
   "cell_type": "code",
   "execution_count": null,
   "metadata": {
    "collapsed": true
   },
   "outputs": [],
   "source": []
  },
  {
   "cell_type": "code",
   "execution_count": null,
   "metadata": {
    "collapsed": true
   },
   "outputs": [],
   "source": []
  }
 ],
 "metadata": {
  "kernelspec": {
   "display_name": "Python 3",
   "language": "python",
   "name": "python3"
  },
  "language_info": {
   "codemirror_mode": {
    "name": "ipython",
    "version": 3
   },
   "file_extension": ".py",
   "mimetype": "text/x-python",
   "name": "python",
   "nbconvert_exporter": "python",
   "pygments_lexer": "ipython3",
   "version": "3.6.2"
  }
 },
 "nbformat": 4,
 "nbformat_minor": 2
}
